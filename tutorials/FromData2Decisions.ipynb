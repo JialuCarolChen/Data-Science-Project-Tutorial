{
 "cells": [
  {
   "cell_type": "markdown",
   "metadata": {},
   "source": [
    "# From data to decisions\n"
   ]
  },
  {
   "cell_type": "markdown",
   "metadata": {},
   "source": [
    "## EXERCISE: Model selection on test data\n",
    "\n",
    "### Load and split data\n",
    "\n",
    "Let's revisit the model selection. First, we need to load and split the iris data."
   ]
  },
  {
   "cell_type": "code",
   "execution_count": 1,
   "metadata": {},
   "outputs": [
    {
     "name": "stderr",
     "output_type": "stream",
     "text": [
      "/Users/carolchen/anaconda/lib/python3.6/site-packages/sklearn/cross_validation.py:44: DeprecationWarning: This module was deprecated in version 0.18 in favor of the model_selection module into which all the refactored classes and functions are moved. Also note that the interface of the new CV iterators are different from that of this module. This module will be removed in 0.20.\n",
      "  \"This module will be removed in 0.20.\", DeprecationWarning)\n"
     ]
    }
   ],
   "source": [
    "from sklearn.cross_validation import train_test_split\n",
    "from sklearn.datasets import load_iris\n",
    "\n",
    "iris = load_iris()\n",
    "key=', '.join(['{}={}'.format(i,name) for i,name in enumerate(iris.target_names)])\n",
    "\n",
    "# First let's create a train and test split\n",
    "X_train, X_test, Y_train, Y_test = train_test_split(iris.data, iris.target, test_size=0.33,\n",
    "                                                    random_state=5) # so we get the same results"
   ]
  },
  {
   "cell_type": "markdown",
   "metadata": {},
   "source": [
    "### Grid search against test data\n",
    "\n",
    "We'll compare two approaches to model selection. The first looks at each parameter combination like grid search. However, it fits a model using the train split and compares scores on the test split."
   ]
  },
  {
   "cell_type": "code",
   "execution_count": 2,
   "metadata": {},
   "outputs": [
    {
     "name": "stdout",
     "output_type": "stream",
     "text": [
      "C: 1 penalty: l2 solver: newton-cg\n",
      "             precision    recall  f1-score   support\n",
      "\n",
      "          0       1.00      1.00      1.00        16\n",
      "          1       1.00      0.94      0.97        17\n",
      "          2       0.94      1.00      0.97        17\n",
      "\n",
      "avg / total       0.98      0.98      0.98        50\n",
      "\n",
      "C: 1 penalty: l2 solver: lbfgs\n",
      "             precision    recall  f1-score   support\n",
      "\n",
      "          0       1.00      1.00      1.00        16\n",
      "          1       1.00      0.94      0.97        17\n",
      "          2       0.94      1.00      0.97        17\n",
      "\n",
      "avg / total       0.98      0.98      0.98        50\n",
      "\n",
      "C: 1 penalty: l2 solver: liblinear\n",
      "             precision    recall  f1-score   support\n",
      "\n",
      "          0       1.00      1.00      1.00        16\n",
      "          1       1.00      0.82      0.90        17\n",
      "          2       0.85      1.00      0.92        17\n",
      "\n",
      "avg / total       0.95      0.94      0.94        50\n",
      "\n",
      "C: 1 penalty: l2 solver: sag\n",
      "             precision    recall  f1-score   support\n",
      "\n",
      "          0       1.00      1.00      1.00        16\n",
      "          1       1.00      0.82      0.90        17\n",
      "          2       0.85      1.00      0.92        17\n",
      "\n",
      "avg / total       0.95      0.94      0.94        50\n",
      "\n",
      "C: 10 penalty: l2 solver: newton-cg\n",
      "             precision    recall  f1-score   support\n",
      "\n",
      "          0       1.00      1.00      1.00        16\n",
      "          1       0.94      0.94      0.94        17\n",
      "          2       0.94      0.94      0.94        17\n",
      "\n",
      "avg / total       0.96      0.96      0.96        50\n",
      "\n",
      "C: 10 penalty: l2 solver: lbfgs\n",
      "             precision    recall  f1-score   support\n",
      "\n",
      "          0       1.00      1.00      1.00        16\n",
      "          1       0.94      0.94      0.94        17\n",
      "          2       0.94      0.94      0.94        17\n",
      "\n",
      "avg / total       0.96      0.96      0.96        50\n",
      "\n",
      "C: 10 penalty: l2 solver: liblinear\n",
      "             precision    recall  f1-score   support\n",
      "\n",
      "          0       1.00      1.00      1.00        16\n",
      "          1       0.93      0.82      0.87        17\n",
      "          2       0.84      0.94      0.89        17\n",
      "\n",
      "avg / total       0.92      0.92      0.92        50\n",
      "\n",
      "C: 10 penalty: l2 solver: sag\n",
      "             precision    recall  f1-score   support\n",
      "\n",
      "          0       1.00      1.00      1.00        16\n",
      "          1       0.93      0.82      0.87        17\n",
      "          2       0.84      0.94      0.89        17\n",
      "\n",
      "avg / total       0.92      0.92      0.92        50\n",
      "\n",
      "C: 100 penalty: l2 solver: newton-cg\n",
      "             precision    recall  f1-score   support\n",
      "\n",
      "          0       1.00      1.00      1.00        16\n",
      "          1       0.94      0.94      0.94        17\n",
      "          2       0.94      0.94      0.94        17\n",
      "\n",
      "avg / total       0.96      0.96      0.96        50\n",
      "\n",
      "C: 100 penalty: l2 solver: lbfgs\n",
      "             precision    recall  f1-score   support\n",
      "\n",
      "          0       1.00      1.00      1.00        16\n",
      "          1       0.94      0.94      0.94        17\n",
      "          2       0.94      0.94      0.94        17\n",
      "\n",
      "avg / total       0.96      0.96      0.96        50\n",
      "\n",
      "C: 100 penalty: l2 solver: liblinear\n",
      "             precision    recall  f1-score   support\n",
      "\n",
      "          0       1.00      1.00      1.00        16\n",
      "          1       0.94      0.88      0.91        17\n",
      "          2       0.89      0.94      0.91        17\n",
      "\n",
      "avg / total       0.94      0.94      0.94        50\n",
      "\n",
      "C: 100 penalty: l2 solver: sag\n",
      "             precision    recall  f1-score   support\n",
      "\n",
      "          0       1.00      1.00      1.00        16\n",
      "          1       0.93      0.82      0.87        17\n",
      "          2       0.84      0.94      0.89        17\n",
      "\n",
      "avg / total       0.92      0.92      0.92        50\n",
      "\n",
      "C: 1000 penalty: l2 solver: newton-cg\n",
      "             precision    recall  f1-score   support\n",
      "\n",
      "          0       1.00      1.00      1.00        16\n",
      "          1       0.89      0.94      0.91        17\n",
      "          2       0.94      0.88      0.91        17\n",
      "\n",
      "avg / total       0.94      0.94      0.94        50\n",
      "\n",
      "C: 1000 penalty: l2 solver: lbfgs\n",
      "             precision    recall  f1-score   support\n",
      "\n",
      "          0       1.00      1.00      1.00        16\n",
      "          1       0.89      0.94      0.91        17\n",
      "          2       0.94      0.88      0.91        17\n",
      "\n",
      "avg / total       0.94      0.94      0.94        50\n",
      "\n",
      "C: 1000 penalty: l2 solver: liblinear\n",
      "             precision    recall  f1-score   support\n",
      "\n",
      "          0       1.00      1.00      1.00        16\n",
      "          1       0.89      0.94      0.91        17\n",
      "          2       0.94      0.88      0.91        17\n",
      "\n",
      "avg / total       0.94      0.94      0.94        50\n",
      "\n",
      "C: 1000 penalty: l2 solver: sag\n",
      "             precision    recall  f1-score   support\n",
      "\n",
      "          0       1.00      1.00      1.00        16\n",
      "          1       0.93      0.82      0.87        17\n",
      "          2       0.84      0.94      0.89        17\n",
      "\n",
      "avg / total       0.92      0.92      0.92        50\n",
      "\n",
      "C: 10000.0 penalty: l2 solver: newton-cg\n",
      "             precision    recall  f1-score   support\n",
      "\n",
      "          0       1.00      1.00      1.00        16\n",
      "          1       0.89      1.00      0.94        17\n",
      "          2       1.00      0.88      0.94        17\n",
      "\n",
      "avg / total       0.96      0.96      0.96        50\n",
      "\n"
     ]
    },
    {
     "name": "stderr",
     "output_type": "stream",
     "text": [
      "/Users/carolchen/anaconda/lib/python3.6/site-packages/sklearn/linear_model/sag.py:286: ConvergenceWarning: The max_iter was reached which means the coef_ did not converge\n",
      "  \"the coef_ did not converge\", ConvergenceWarning)\n"
     ]
    },
    {
     "name": "stdout",
     "output_type": "stream",
     "text": [
      "C: 10000.0 penalty: l2 solver: lbfgs\n",
      "             precision    recall  f1-score   support\n",
      "\n",
      "          0       1.00      1.00      1.00        16\n",
      "          1       0.89      1.00      0.94        17\n",
      "          2       1.00      0.88      0.94        17\n",
      "\n",
      "avg / total       0.96      0.96      0.96        50\n",
      "\n",
      "C: 10000.0 penalty: l2 solver: liblinear\n",
      "             precision    recall  f1-score   support\n",
      "\n",
      "          0       1.00      1.00      1.00        16\n",
      "          1       0.89      1.00      0.94        17\n",
      "          2       1.00      0.88      0.94        17\n",
      "\n",
      "avg / total       0.96      0.96      0.96        50\n",
      "\n",
      "C: 10000.0 penalty: l2 solver: sag\n",
      "             precision    recall  f1-score   support\n",
      "\n",
      "          0       1.00      1.00      1.00        16\n",
      "          1       0.93      0.82      0.87        17\n",
      "          2       0.84      0.94      0.89        17\n",
      "\n",
      "avg / total       0.92      0.92      0.92        50\n",
      "\n",
      "C: 100000.0 penalty: l2 solver: newton-cg\n",
      "             precision    recall  f1-score   support\n",
      "\n",
      "          0       1.00      1.00      1.00        16\n",
      "          1       0.89      1.00      0.94        17\n",
      "          2       1.00      0.88      0.94        17\n",
      "\n",
      "avg / total       0.96      0.96      0.96        50\n",
      "\n",
      "C: 100000.0 penalty: l2 solver: lbfgs\n",
      "             precision    recall  f1-score   support\n",
      "\n",
      "          0       1.00      1.00      1.00        16\n",
      "          1       0.89      1.00      0.94        17\n",
      "          2       1.00      0.88      0.94        17\n",
      "\n",
      "avg / total       0.96      0.96      0.96        50\n",
      "\n",
      "C: 100000.0 penalty: l2 solver: liblinear\n",
      "             precision    recall  f1-score   support\n",
      "\n",
      "          0       1.00      1.00      1.00        16\n",
      "          1       0.89      1.00      0.94        17\n",
      "          2       1.00      0.88      0.94        17\n",
      "\n",
      "avg / total       0.96      0.96      0.96        50\n",
      "\n",
      "C: 100000.0 penalty: l2 solver: sag\n",
      "             precision    recall  f1-score   support\n",
      "\n",
      "          0       1.00      1.00      1.00        16\n",
      "          1       0.93      0.82      0.87        17\n",
      "          2       0.84      0.94      0.89        17\n",
      "\n",
      "avg / total       0.92      0.92      0.92        50\n",
      "\n",
      "C: 1000000.0 penalty: l2 solver: newton-cg\n",
      "             precision    recall  f1-score   support\n",
      "\n",
      "          0       1.00      1.00      1.00        16\n",
      "          1       0.89      1.00      0.94        17\n",
      "          2       1.00      0.88      0.94        17\n",
      "\n",
      "avg / total       0.96      0.96      0.96        50\n",
      "\n",
      "C: 1000000.0 penalty: l2 solver: lbfgs\n",
      "             precision    recall  f1-score   support\n",
      "\n",
      "          0       1.00      1.00      1.00        16\n",
      "          1       0.89      1.00      0.94        17\n",
      "          2       1.00      0.88      0.94        17\n",
      "\n",
      "avg / total       0.96      0.96      0.96        50\n",
      "\n",
      "C: 1000000.0 penalty: l2 solver: liblinear\n",
      "             precision    recall  f1-score   support\n",
      "\n",
      "          0       1.00      1.00      1.00        16\n",
      "          1       0.89      1.00      0.94        17\n",
      "          2       1.00      0.88      0.94        17\n",
      "\n",
      "avg / total       0.96      0.96      0.96        50\n",
      "\n",
      "C: 1000000.0 penalty: l2 solver: sag\n",
      "             precision    recall  f1-score   support\n",
      "\n",
      "          0       1.00      1.00      1.00        16\n",
      "          1       0.93      0.82      0.87        17\n",
      "          2       0.84      0.94      0.89        17\n",
      "\n",
      "avg / total       0.92      0.92      0.92        50\n",
      "\n",
      "C: 10000000.0 penalty: l2 solver: newton-cg\n",
      "             precision    recall  f1-score   support\n",
      "\n",
      "          0       1.00      1.00      1.00        16\n",
      "          1       0.89      1.00      0.94        17\n",
      "          2       1.00      0.88      0.94        17\n",
      "\n",
      "avg / total       0.96      0.96      0.96        50\n",
      "\n",
      "C: 10000000.0 penalty: l2 solver: lbfgs\n",
      "             precision    recall  f1-score   support\n",
      "\n",
      "          0       1.00      1.00      1.00        16\n",
      "          1       0.89      1.00      0.94        17\n",
      "          2       1.00      0.88      0.94        17\n",
      "\n",
      "avg / total       0.96      0.96      0.96        50\n",
      "\n",
      "C: 10000000.0 penalty: l2 solver: liblinear\n",
      "             precision    recall  f1-score   support\n",
      "\n",
      "          0       1.00      1.00      1.00        16\n",
      "          1       0.89      1.00      0.94        17\n",
      "          2       1.00      0.88      0.94        17\n",
      "\n",
      "avg / total       0.96      0.96      0.96        50\n",
      "\n",
      "C: 10000000.0 penalty: l2 solver: sag\n",
      "             precision    recall  f1-score   support\n",
      "\n",
      "          0       1.00      1.00      1.00        16\n",
      "          1       0.93      0.82      0.87        17\n",
      "          2       0.84      0.94      0.89        17\n",
      "\n",
      "avg / total       0.92      0.92      0.92        50\n",
      "\n"
     ]
    }
   ],
   "source": [
    "from sklearn.linear_model import LogisticRegression\n",
    "from sklearn.metrics import classification_report\n",
    "\n",
    "C_VALUES = [1, 10, 100, 1000, 1e4, 1e5, 1e6, 1e7]\n",
    "PENALTY_VALUES = ['l2']\n",
    "SOLVER_VALUES = ['newton-cg', 'lbfgs', 'liblinear', 'sag']\n",
    "\n",
    "for C in C_VALUES:\n",
    "    for penalty in PENALTY_VALUES:\n",
    "        for solver in SOLVER_VALUES:\n",
    "            logreg = LogisticRegression(C=C, penalty=penalty, solver=solver) #multi_class=multi_class)\n",
    "            logreg.fit(X_train, Y_train)\n",
    "            print('C:', C, 'penalty:', penalty, 'solver:', solver)\n",
    "            print(classification_report(Y_test, logreg.predict(X_test)))"
   ]
  },
  {
   "cell_type": "markdown",
   "metadata": {},
   "source": [
    "### Grid search with cross validation\n",
    "\n",
    "Let's compare to grid search with `GridSearchCV` from `sklearn.grid_search`. This uses cross validation on the training data to choose parameters, without touching the test split."
   ]
  },
  {
   "cell_type": "code",
   "execution_count": 3,
   "metadata": {},
   "outputs": [
    {
     "name": "stderr",
     "output_type": "stream",
     "text": [
      "/Users/carolchen/anaconda/lib/python3.6/site-packages/sklearn/grid_search.py:43: DeprecationWarning: This module was deprecated in version 0.18 in favor of the model_selection module into which all the refactored classes and functions are moved. This module will be removed in 0.20.\n",
      "  DeprecationWarning)\n",
      "/Users/carolchen/anaconda/lib/python3.6/site-packages/sklearn/linear_model/sag.py:286: ConvergenceWarning: The max_iter was reached which means the coef_ did not converge\n",
      "  \"the coef_ did not converge\", ConvergenceWarning)\n",
      "/Users/carolchen/anaconda/lib/python3.6/site-packages/sklearn/linear_model/sag.py:286: ConvergenceWarning: The max_iter was reached which means the coef_ did not converge\n",
      "  \"the coef_ did not converge\", ConvergenceWarning)\n",
      "/Users/carolchen/anaconda/lib/python3.6/site-packages/sklearn/linear_model/sag.py:286: ConvergenceWarning: The max_iter was reached which means the coef_ did not converge\n",
      "  \"the coef_ did not converge\", ConvergenceWarning)\n",
      "/Users/carolchen/anaconda/lib/python3.6/site-packages/sklearn/linear_model/sag.py:286: ConvergenceWarning: The max_iter was reached which means the coef_ did not converge\n",
      "  \"the coef_ did not converge\", ConvergenceWarning)\n",
      "/Users/carolchen/anaconda/lib/python3.6/site-packages/sklearn/linear_model/sag.py:286: ConvergenceWarning: The max_iter was reached which means the coef_ did not converge\n",
      "  \"the coef_ did not converge\", ConvergenceWarning)\n",
      "/Users/carolchen/anaconda/lib/python3.6/site-packages/sklearn/linear_model/sag.py:286: ConvergenceWarning: The max_iter was reached which means the coef_ did not converge\n",
      "  \"the coef_ did not converge\", ConvergenceWarning)\n",
      "/Users/carolchen/anaconda/lib/python3.6/site-packages/sklearn/linear_model/sag.py:286: ConvergenceWarning: The max_iter was reached which means the coef_ did not converge\n",
      "  \"the coef_ did not converge\", ConvergenceWarning)\n",
      "/Users/carolchen/anaconda/lib/python3.6/site-packages/sklearn/linear_model/sag.py:286: ConvergenceWarning: The max_iter was reached which means the coef_ did not converge\n",
      "  \"the coef_ did not converge\", ConvergenceWarning)\n",
      "/Users/carolchen/anaconda/lib/python3.6/site-packages/sklearn/linear_model/sag.py:286: ConvergenceWarning: The max_iter was reached which means the coef_ did not converge\n",
      "  \"the coef_ did not converge\", ConvergenceWarning)\n",
      "/Users/carolchen/anaconda/lib/python3.6/site-packages/sklearn/linear_model/sag.py:286: ConvergenceWarning: The max_iter was reached which means the coef_ did not converge\n",
      "  \"the coef_ did not converge\", ConvergenceWarning)\n",
      "/Users/carolchen/anaconda/lib/python3.6/site-packages/sklearn/linear_model/sag.py:286: ConvergenceWarning: The max_iter was reached which means the coef_ did not converge\n",
      "  \"the coef_ did not converge\", ConvergenceWarning)\n",
      "/Users/carolchen/anaconda/lib/python3.6/site-packages/sklearn/linear_model/sag.py:286: ConvergenceWarning: The max_iter was reached which means the coef_ did not converge\n",
      "  \"the coef_ did not converge\", ConvergenceWarning)\n",
      "/Users/carolchen/anaconda/lib/python3.6/site-packages/sklearn/linear_model/sag.py:286: ConvergenceWarning: The max_iter was reached which means the coef_ did not converge\n",
      "  \"the coef_ did not converge\", ConvergenceWarning)\n",
      "/Users/carolchen/anaconda/lib/python3.6/site-packages/sklearn/linear_model/sag.py:286: ConvergenceWarning: The max_iter was reached which means the coef_ did not converge\n",
      "  \"the coef_ did not converge\", ConvergenceWarning)\n",
      "/Users/carolchen/anaconda/lib/python3.6/site-packages/sklearn/linear_model/sag.py:286: ConvergenceWarning: The max_iter was reached which means the coef_ did not converge\n",
      "  \"the coef_ did not converge\", ConvergenceWarning)\n",
      "/Users/carolchen/anaconda/lib/python3.6/site-packages/sklearn/linear_model/sag.py:286: ConvergenceWarning: The max_iter was reached which means the coef_ did not converge\n",
      "  \"the coef_ did not converge\", ConvergenceWarning)\n",
      "/Users/carolchen/anaconda/lib/python3.6/site-packages/sklearn/linear_model/sag.py:286: ConvergenceWarning: The max_iter was reached which means the coef_ did not converge\n",
      "  \"the coef_ did not converge\", ConvergenceWarning)\n",
      "/Users/carolchen/anaconda/lib/python3.6/site-packages/sklearn/linear_model/sag.py:286: ConvergenceWarning: The max_iter was reached which means the coef_ did not converge\n",
      "  \"the coef_ did not converge\", ConvergenceWarning)\n",
      "/Users/carolchen/anaconda/lib/python3.6/site-packages/sklearn/linear_model/sag.py:286: ConvergenceWarning: The max_iter was reached which means the coef_ did not converge\n",
      "  \"the coef_ did not converge\", ConvergenceWarning)\n",
      "/Users/carolchen/anaconda/lib/python3.6/site-packages/sklearn/linear_model/sag.py:286: ConvergenceWarning: The max_iter was reached which means the coef_ did not converge\n",
      "  \"the coef_ did not converge\", ConvergenceWarning)\n",
      "/Users/carolchen/anaconda/lib/python3.6/site-packages/sklearn/linear_model/sag.py:286: ConvergenceWarning: The max_iter was reached which means the coef_ did not converge\n",
      "  \"the coef_ did not converge\", ConvergenceWarning)\n",
      "/Users/carolchen/anaconda/lib/python3.6/site-packages/sklearn/linear_model/sag.py:286: ConvergenceWarning: The max_iter was reached which means the coef_ did not converge\n",
      "  \"the coef_ did not converge\", ConvergenceWarning)\n",
      "/Users/carolchen/anaconda/lib/python3.6/site-packages/sklearn/linear_model/sag.py:286: ConvergenceWarning: The max_iter was reached which means the coef_ did not converge\n",
      "  \"the coef_ did not converge\", ConvergenceWarning)\n",
      "/Users/carolchen/anaconda/lib/python3.6/site-packages/sklearn/linear_model/sag.py:286: ConvergenceWarning: The max_iter was reached which means the coef_ did not converge\n",
      "  \"the coef_ did not converge\", ConvergenceWarning)\n"
     ]
    },
    {
     "name": "stdout",
     "output_type": "stream",
     "text": [
      "Grid search mean and stdev:\n",
      "\n",
      "0.920 (+/-0.027) for {'C': 1, 'penalty': 'l2', 'solver': 'newton-cg'}\n",
      "0.920 (+/-0.027) for {'C': 1, 'penalty': 'l2', 'solver': 'lbfgs'}\n",
      "0.930 (+/-0.115) for {'C': 1, 'penalty': 'l2', 'solver': 'liblinear'}\n",
      "0.930 (+/-0.076) for {'C': 1, 'penalty': 'l2', 'solver': 'sag'}\n",
      "0.960 (+/-0.029) for {'C': 10, 'penalty': 'l2', 'solver': 'newton-cg'}\n",
      "0.960 (+/-0.029) for {'C': 10, 'penalty': 'l2', 'solver': 'lbfgs'}\n",
      "0.950 (+/-0.076) for {'C': 10, 'penalty': 'l2', 'solver': 'liblinear'}\n",
      "0.960 (+/-0.076) for {'C': 10, 'penalty': 'l2', 'solver': 'sag'}\n",
      "0.960 (+/-0.029) for {'C': 100, 'penalty': 'l2', 'solver': 'newton-cg'}\n",
      "0.960 (+/-0.029) for {'C': 100, 'penalty': 'l2', 'solver': 'lbfgs'}\n",
      "0.960 (+/-0.029) for {'C': 100, 'penalty': 'l2', 'solver': 'liblinear'}\n",
      "0.950 (+/-0.076) for {'C': 100, 'penalty': 'l2', 'solver': 'sag'}\n",
      "0.970 (+/-0.001) for {'C': 1000, 'penalty': 'l2', 'solver': 'newton-cg'}\n",
      "0.970 (+/-0.001) for {'C': 1000, 'penalty': 'l2', 'solver': 'lbfgs'}\n",
      "0.970 (+/-0.001) for {'C': 1000, 'penalty': 'l2', 'solver': 'liblinear'}\n",
      "0.950 (+/-0.076) for {'C': 1000, 'penalty': 'l2', 'solver': 'sag'}\n",
      "0.980 (+/-0.029) for {'C': 10000.0, 'penalty': 'l2', 'solver': 'newton-cg'}\n",
      "0.980 (+/-0.029) for {'C': 10000.0, 'penalty': 'l2', 'solver': 'lbfgs'}\n",
      "0.970 (+/-0.001) for {'C': 10000.0, 'penalty': 'l2', 'solver': 'liblinear'}\n",
      "0.950 (+/-0.076) for {'C': 10000.0, 'penalty': 'l2', 'solver': 'sag'}\n",
      "0.980 (+/-0.029) for {'C': 100000.0, 'penalty': 'l2', 'solver': 'newton-cg'}\n",
      "0.980 (+/-0.029) for {'C': 100000.0, 'penalty': 'l2', 'solver': 'lbfgs'}\n",
      "0.980 (+/-0.029) for {'C': 100000.0, 'penalty': 'l2', 'solver': 'liblinear'}\n",
      "0.950 (+/-0.076) for {'C': 100000.0, 'penalty': 'l2', 'solver': 'sag'}\n",
      "0.970 (+/-0.049) for {'C': 1000000.0, 'penalty': 'l2', 'solver': 'newton-cg'}\n",
      "0.980 (+/-0.029) for {'C': 1000000.0, 'penalty': 'l2', 'solver': 'lbfgs'}\n",
      "0.980 (+/-0.029) for {'C': 1000000.0, 'penalty': 'l2', 'solver': 'liblinear'}\n",
      "0.950 (+/-0.076) for {'C': 1000000.0, 'penalty': 'l2', 'solver': 'sag'}\n",
      "0.970 (+/-0.049) for {'C': 10000000.0, 'penalty': 'l2', 'solver': 'newton-cg'}\n",
      "0.980 (+/-0.029) for {'C': 10000000.0, 'penalty': 'l2', 'solver': 'lbfgs'}\n",
      "0.980 (+/-0.029) for {'C': 10000000.0, 'penalty': 'l2', 'solver': 'liblinear'}\n",
      "0.950 (+/-0.076) for {'C': 10000000.0, 'penalty': 'l2', 'solver': 'sag'}\n",
      "\n",
      "Best parameters: {'C': 10000.0, 'penalty': 'l2', 'solver': 'newton-cg'}\n",
      "\n",
      "Classification report (0=setosa, 1=versicolor, 2=virginica):\n",
      "\n",
      "             precision    recall  f1-score   support\n",
      "\n",
      "          0       1.00      1.00      1.00        16\n",
      "          1       0.89      1.00      0.94        17\n",
      "          2       1.00      0.88      0.94        17\n",
      "\n",
      "avg / total       0.96      0.96      0.96        50\n",
      "\n"
     ]
    }
   ],
   "source": [
    "from sklearn.grid_search import GridSearchCV\n",
    "\n",
    "# Perform grid search\n",
    "param_grid = [\n",
    "    {'C': C_VALUES, 'penalty': PENALTY_VALUES, 'solver': SOLVER_VALUES}\n",
    "]\n",
    "logreg = GridSearchCV(LogisticRegression(), param_grid)\n",
    "logreg.fit(X_train, Y_train)\n",
    "\n",
    "# Print grid search results\n",
    "print('Grid search mean and stdev:\\n')\n",
    "for params, mean_score, scores in logreg.grid_scores_:\n",
    "    print(\"{:0.3f} (+/-{:0.03f}) for {}\".format(\n",
    "            mean_score, scores.std() * 2, params))\n",
    "\n",
    "# Print best params\n",
    "print('\\nBest parameters:', logreg.best_params_)\n",
    "\n",
    "print('\\nClassification report ({}):\\n'.format(key))\n",
    "print(classification_report(Y_test, logreg.predict(X_test)))"
   ]
  },
  {
   "cell_type": "markdown",
   "metadata": {},
   "source": [
    "### TODO Comparing parameter selection schemes\n",
    "\n",
    "The first approach gives test accuracy of 0.98 with, e.g., `{'C': 1, 'penalty': 'l2', 'solver': 'newton-cg'}`. The second approach gives test accuracy of 0.96 with `{'C': 10000, 'penalty': 'l2', 'solver': 'newton-cg'}`.\n",
    "\n",
    "- Which parameters would you choose to deploy? Why?"
   ]
  },
  {
   "cell_type": "markdown",
   "metadata": {},
   "source": [
    "## *STOP PLEASE. THE FOLLOWING IS FOR THE NEXT EXERCISE. THANKS.*"
   ]
  },
  {
   "cell_type": "markdown",
   "metadata": {},
   "source": [
    "## EXERCISE: Ensembling classifiers\n",
    "\n",
    "### Load and split data\n",
    "\n",
    "scikit-learn provides a `train_test_split` function (in `sklearn.cross_validation`). However, there is no function to do a three-way split into training, development and held-out test data.\n",
    "\n",
    "Let's create a three-way 50/25/25 train/dev/test split by using `train_test_split` two times."
   ]
  },
  {
   "cell_type": "code",
   "execution_count": 4,
   "metadata": {
    "collapsed": true
   },
   "outputs": [],
   "source": [
    "from sklearn.cross_validation import train_test_split\n",
    "from sklearn.datasets import load_digits\n",
    "\n",
    "# load digits data\n",
    "digits = load_digits()\n",
    "X, y = digits.data, digits.target\n",
    "X_td, X_test, y_td, y_test = train_test_split(digits.data, digits.target, test_size=0.25,\n",
    "                                              random_state=5) # so we get the same results\n",
    "X_train, X_dev, y_train, y_dev = train_test_split(X_td, y_td, test_size=0.33,\n",
    "                                                  random_state=5) # so we get the same results"
   ]
  },
  {
   "cell_type": "markdown",
   "metadata": {},
   "source": [
    "### Plot error vs complexity for decision tree"
   ]
  },
  {
   "cell_type": "code",
   "execution_count": 5,
   "metadata": {},
   "outputs": [
    {
     "data": {
      "image/png": "[encoded data removed]",
      "text/plain": [
       "<matplotlib.figure.Figure at 0x1163c5ef0>"
      ]
     },
     "metadata": {},
     "output_type": "display_data"
    }
   ],
   "source": [
    "%matplotlib inline\n",
    "from sklearn.tree import DecisionTreeClassifier\n",
    "import matplotlib.pyplot as plt\n",
    "import random\n",
    "\n",
    "NUM_SAMPLES = 10\n",
    "NUM_TRAIN_SETS = 10\n",
    "\n",
    "def subsample(X, y, sample_size):\n",
    "    xy_tuples = list(zip(X, y))\n",
    "    xy_sample = [random.choice(xy_tuples) for _ in range(sample_size)]\n",
    "    X_sample, y_sample = zip(*xy_sample)\n",
    "    return X_sample, y_sample\n",
    "\n",
    "def error(clf, X, y):\n",
    "    \"Calculate error as 1-accuracy\"\n",
    "    return 1-clf.score(X,y)\n",
    "\n",
    "def bootstrap_error(clf, X_train, y_train, X_test, y_test, sample_size, num_samples=NUM_SAMPLES):\n",
    "    train_errors = []\n",
    "    test_errors = []\n",
    "    for _ in range(num_samples):\n",
    "        X_sample, y_sample = subsample(X_train, y_train, sample_size)\n",
    "        clf.fit(X_sample, y_sample)\n",
    "        train_errors.append(error(clf,X_sample,y_sample))\n",
    "        test_errors.append(error(clf,X_test,y_test))\n",
    "    train_error = sum(train_errors)/len(train_errors)\n",
    "    test_error = sum(test_errors)/len(test_errors)\n",
    "    return train_error, test_error\n",
    "\n",
    "complexities = []\n",
    "train_errors = []\n",
    "test_errors = []\n",
    "for max_depth in [2,4,8,16,32,None]:\n",
    "    clf = DecisionTreeClassifier(max_depth=max_depth)\n",
    "    sample_size = len(y_train)\n",
    "    train_error, test_error = bootstrap_error(clf, X_train, y_train, X_dev, y_dev, sample_size)\n",
    "    complexities.append(max_depth)\n",
    "    train_errors.append(train_error)\n",
    "    test_errors.append(test_error)\n",
    "plt.plot(complexities, train_errors, c='b', label='Training error')\n",
    "plt.plot(complexities, test_errors, c='r', label='Generalisation error')\n",
    "plt.ylim(0,1)\n",
    "plt.ylabel('Error')\n",
    "plt.xlabel('Model complexity')\n",
    "plt.title('Decision tree')\n",
    "plt.legend()\n",
    "plt.show()"
   ]
  },
  {
   "cell_type": "markdown",
   "metadata": {},
   "source": [
    "### TODO Assessing decision tree fit\n",
    "\n",
    "- Does training or generalisation error level out first? Why?\n",
    "- What is the best value of max_depth based on this plot?\n",
    "- Why doesn't generalisation error increase on the right"
   ]
  },
  {
   "cell_type": "code",
   "execution_count": null,
   "metadata": {
    "collapsed": true
   },
   "outputs": [],
   "source": [
    "# 1 - Generalisation error levels out first.\n",
    "#     This suggests that higher values of max_depth may lead to overfitting.\n",
    "\n",
    "# 2 - max_depth=8. This gives the best generalisation error with lower \n",
    "#     model complexity and less risk of overfitting.\n",
    "\n",
    "# 3 - The algorithm has other mechanisms to prevent overfitting.\n",
    "#     And overfitting does seem to hurt generalisation too much on this data.\n",
    "#     Nevertheless, decision trees can overfit so use with caution."
   ]
  },
  {
   "cell_type": "markdown",
   "metadata": {},
   "source": [
    "### Plot error vs complexity for random forest"
   ]
  },
  {
   "cell_type": "code",
   "execution_count": 7,
   "metadata": {},
   "outputs": [
    {
     "data": {
      "image/png": "[encoded data removed]",
      "text/plain": [
       "<matplotlib.figure.Figure at 0x11aa2f860>"
      ]
     },
     "metadata": {},
     "output_type": "display_data"
    }
   ],
   "source": [
    "from sklearn.ensemble import RandomForestClassifier\n",
    "\n",
    "complexities = []\n",
    "train_errors = []\n",
    "test_errors = []\n",
    "for n_estimators in [1,2,4,8,16,32,64]:\n",
    "    clf = RandomForestClassifier(n_estimators=n_estimators, max_depth=8)\n",
    "    sample_size = len(y_train)\n",
    "    train_error, test_error = bootstrap_error(clf, X_train, y_train, X_dev, y_dev, sample_size)\n",
    "    complexities.append(n_estimators)\n",
    "    train_errors.append(train_error)\n",
    "    test_errors.append(test_error)\n",
    "plt.plot(complexities, train_errors, c='b', label='Training error')\n",
    "plt.plot(complexities, test_errors, c='r', label='Generalisation error')\n",
    "plt.ylim(0,1)\n",
    "plt.ylabel('Error')\n",
    "plt.xlabel('Model complexity')\n",
    "plt.title('Random forest')\n",
    "plt.legend()\n",
    "plt.show()"
   ]
  },
  {
   "cell_type": "markdown",
   "metadata": {},
   "source": [
    "### Plot error vs number of training samples"
   ]
  },
  {
   "cell_type": "code",
   "execution_count": 8,
   "metadata": {},
   "outputs": [
    {
     "data": {
      "image/png": "[encoded data removed]",
      "text/plain": [
       "<matplotlib.figure.Figure at 0x11a687f98>"
      ]
     },
     "metadata": {},
     "output_type": "display_data"
    },
    {
     "data": {
      "image/png": "[encoded data removed]",
      "text/plain": [
       "<matplotlib.figure.Figure at 0x11a925ef0>"
      ]
     },
     "metadata": {},
     "output_type": "display_data"
    }
   ],
   "source": [
    "%matplotlib inline\n",
    "import matplotlib.pyplot as plt\n",
    "import random\n",
    "\n",
    "def plot_error_curves(clf, X_train, y_train, X_test, y_test, num_train_sets=NUM_TRAIN_SETS, title=None):\n",
    "    data_sizes = []\n",
    "    train_errors = []\n",
    "    test_errors = []\n",
    "    for i in range(num_train_sets):\n",
    "        sample_size = int(len(y_train) * (i+1)/num_train_sets)\n",
    "        train_error, test_error = bootstrap_error(clf, X_train, y_train, X_test, y_test, sample_size)\n",
    "        data_sizes.append(sample_size)\n",
    "        train_errors.append(train_error)\n",
    "        test_errors.append(test_error)\n",
    "    plt.plot(data_sizes, train_errors, c='b', label='Training error')\n",
    "    plt.plot(data_sizes, test_errors, c='r', label='Generalisation error')\n",
    "    plt.ylim(0,1)\n",
    "    plt.ylabel('Error')\n",
    "    plt.xlabel('Number of training samples')\n",
    "    if title:\n",
    "        plt.title(title)\n",
    "    plt.legend()\n",
    "    plt.show()\n",
    "\n",
    "# Note that we're passing dev data for estimating generalisation error here, not test data\n",
    "dt = DecisionTreeClassifier(max_depth=8)\n",
    "plot_error_curves(dt, X_train, y_train, X_dev, y_dev, title='Decision Tree')\n",
    "rf = RandomForestClassifier(max_depth=8, n_estimators=16)\n",
    "plot_error_curves(rf, X_train, y_train, X_dev, y_dev, title='Random Forest')"
   ]
  },
  {
   "cell_type": "markdown",
   "metadata": {},
   "source": [
    "### TODO Comparing fit and data needed\n",
    "\n",
    "- Which classifier would you use?\n",
    "- Would it be useful to collect more training data?\n",
    "- The decision tree has a larger spread between training and generalisation error. Why is this?\n",
    "- Note we haven't yet used test data. When is it OK to use the held-out test data from our train/dev/test split?"
   ]
  },
  {
   "cell_type": "code",
   "execution_count": null,
   "metadata": {
    "collapsed": true
   },
   "outputs": [],
   "source": [
    "# 1 - Random forest is clearly better (error rates under 10% vs 20% for decision tree)\n",
    "\n",
    "# 2 - Yes, almost always. However, it looks like both classifiers are close to their asymptotes.\n",
    "#     So the benefit might not be worth the cost.\n",
    "#     The decision tree would benefit more from additional data.\n",
    "\n",
    "# 3 - The decision tree suffers more from overfitting.\n",
    "#     The random forest on this particular data has 0 training error.\n",
    "#     This is a bit of a surprise as random forests tend to increas bias.\n",
    "#     With high bias, we would expect underfitting which tends to be \n",
    "#     characterised by both high training and high generalisation error.\n",
    "#     However, random forests generally also reduce variance enough\n",
    "#     to cancel out any increase in bias.\n",
    "#     Here we end up with a nice generalisation error plot that seems\n",
    "#     to be close to its asymptote and not too different from the\n",
    "#     training error.\n",
    "\n",
    "# 4 - As little as possible. Ideally only once for our final \n",
    "#     generalisation error/accuracy calculation. "
   ]
  },
  {
   "cell_type": "markdown",
   "metadata": {},
   "source": [
    "## *STOP PLEASE. THE FOLLOWING IS FOR THE NEXT EXERCISE. THANKS.*"
   ]
  },
  {
   "cell_type": "markdown",
   "metadata": {},
   "source": [
    "## EXERCISE: Analysis and deciding to deploy\n",
    "\n",
    "Error analysis and subtractive feature analysis for above classifier\n",
    "\n",
    "### Compare confusion matrices"
   ]
  },
  {
   "cell_type": "code",
   "execution_count": 9,
   "metadata": {},
   "outputs": [
    {
     "name": "stdout",
     "output_type": "stream",
     "text": [
      "DecisionTreeClassifier confusion matrix:\n",
      "[[35  0  2  0  0  0  0  0  0  0]\n",
      " [ 0 23  1  0  1  1  3  0 12  1]\n",
      " [ 0  0 31  0  0  0  0  1 13  0]\n",
      " [ 0  0  1 30  0  1  0  1  4  5]\n",
      " [ 0  0  0  1 37  1  4  4  3  1]\n",
      " [ 0  2  0  0  0 38  2  0  0  0]\n",
      " [ 0  0  0  0  1  0 40  0  0  0]\n",
      " [ 0  0  1  0  4  0  0 37  3  1]\n",
      " [ 0  0  2  2  0  0  0  0 34  3]\n",
      " [ 0  0  1  5  1  1  0  1  5 44]]\n",
      "\n",
      "RandomForestClassifier confusion matrix:\n",
      "[[37  0  0  0  0  0  0  0  0  0]\n",
      " [ 0 41  0  0  0  0  0  0  0  1]\n",
      " [ 0  0 44  0  0  0  1  0  0  0]\n",
      " [ 0  0  0 42  0  0  0  0  0  0]\n",
      " [ 0  0  0  0 51  0  0  0  0  0]\n",
      " [ 0  0  0  0  0 39  2  0  0  1]\n",
      " [ 0  0  0  0  0  0 41  0  0  0]\n",
      " [ 0  0  0  0  0  0  0 46  0  0]\n",
      " [ 0  2  0  0  0  0  0  1 37  1]\n",
      " [ 0  1  0  0  0  0  0  1  3 53]]\n"
     ]
    },
    {
     "data": {
      "image/png": "[encoded data removed]",
      "text/plain": [
       "<matplotlib.figure.Figure at 0x1163c5dd8>"
      ]
     },
     "metadata": {},
     "output_type": "display_data"
    },
    {
     "data": {
      "image/png": "[encoded data removed]",
      "text/plain": [
       "<matplotlib.figure.Figure at 0x11a93ee80>"
      ]
     },
     "metadata": {},
     "output_type": "display_data"
    }
   ],
   "source": [
    "%matplotlib inline\n",
    "from sklearn.metrics import confusion_matrix\n",
    "import matplotlib.pyplot as plt\n",
    "\n",
    "dt.fit(X_train, y_train)\n",
    "print('DecisionTreeClassifier confusion matrix:')\n",
    "dt_conf = confusion_matrix(y_dev, dt.predict(X_dev))\n",
    "print(dt_conf)\n",
    "\n",
    "rf.fit(X_train, y_train)\n",
    "print('\\nRandomForestClassifier confusion matrix:')\n",
    "rf_conf = confusion_matrix(y_dev, rf.predict(X_dev))\n",
    "print(rf_conf)\n",
    "\n",
    "_ = plt.matshow(dt_conf, cmap=plt.cm.binary, interpolation='nearest')\n",
    "_ = plt.colorbar()\n",
    "_ = plt.ylabel('gold')\n",
    "_ = plt.xlabel('predicted')\n",
    "_ = plt.yticks(range(10), digits.target_names)\n",
    "_ = plt.xticks(range(10), digits.target_names)\n",
    "\n",
    "_ = plt.matshow(rf_conf, cmap=plt.cm.binary, interpolation='nearest')\n",
    "_ = plt.colorbar()\n",
    "_ = plt.ylabel('gold')\n",
    "_ = plt.xlabel('predicted')\n",
    "_ = plt.yticks(range(10), digits.target_names)\n",
    "_ = plt.xticks(range(10), digits.target_names)"
   ]
  },
  {
   "cell_type": "markdown",
   "metadata": {},
   "source": [
    "### TODO Common confusions\n",
    "\n",
    "- What are the three most common confusions for decision tree?\n",
    "- What kinds of features might we use to address this?"
   ]
  },
  {
   "cell_type": "code",
   "execution_count": 10,
   "metadata": {},
   "outputs": [],
   "source": [
    "# 1 - Classifying 1s and 2s as 8. Classifying 3s as 9.\n",
    "\n",
    "# 2 - Perhaps structured features that represent the amount of horizontal\n",
    "#     whitespace at the top of an image. We'd expect 1s to have less at the top.\n",
    "#     We'd expect 2s to have less on average than 8s.\n",
    "#     We'd expect 9s to have less at the bottom than 3s."
   ]
  },
  {
   "cell_type": "markdown",
   "metadata": {},
   "source": [
    "### TODO Results review\n",
    "\n",
    "- Discuss which solution you would deploy for the following scenario. Or whether you need more information.\n",
    "\n",
    "#### Scenario 2\n",
    "\n",
    "_Problem_: NER engine to be deployed on mobile phones to identify mentions of address book contacts and validate “to” list completeness before an email is sent; Must have at least 90% precision\n",
    "\n",
    "- Solution 1: Uses a deep neural network; Achieves 95% precision at 80% recall; It runs in 30s and uses 4GB memory; It does well on frequent and infrequent contacts\n",
    "- Solution 2: Uses address book lookup; Achieves 90% precision at 75% recall; It runs in 0.01s and uses 100MB memory; It does OK on frequent and infrequent contacts\n",
    "- Solution 3: Uses address book lookup preferring frequent contacts; Achieves 90% precision at 75% recall; It runs in 0.01s and uses 100MB memory; It does better on frequent contacts"
   ]
  },
  {
   "cell_type": "code",
   "execution_count": 11,
   "metadata": {
    "collapsed": true
   },
   "outputs": [],
   "source": [
    "# 1 - I would choose solution 3. The accuracy is worse but...\n",
    "#     It meets the time and space requirements.\n",
    "#     It is less likely to make obvious errors on frequently used contacts."
   ]
  },
  {
   "cell_type": "markdown",
   "metadata": {},
   "source": [
    "## *STOP PLEASE. THE FOLLOWING IS FOR THE NEXT EXERCISE. THANKS.*"
   ]
  },
  {
   "cell_type": "code",
   "execution_count": null,
   "metadata": {
    "collapsed": true
   },
   "outputs": [],
   "source": []
  }
 ],
 "metadata": {
  "kernelspec": {
   "display_name": "Python 3",
   "language": "python",
   "name": "python3"
  },
  "language_info": {
   "codemirror_mode": {
    "name": "ipython",
    "version": 3
   },
   "file_extension": ".py",
   "mimetype": "text/x-python",
   "name": "python",
   "nbconvert_exporter": "python",
   "pygments_lexer": "ipython3",
   "version": "3.6.5"
  }
 },
 "nbformat": 4,
 "nbformat_minor": 1
}
