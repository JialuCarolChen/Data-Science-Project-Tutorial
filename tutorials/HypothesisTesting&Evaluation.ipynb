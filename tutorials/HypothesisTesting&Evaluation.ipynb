{
 "cells": [
  {
   "cell_type": "markdown",
   "metadata": {
    "deletable": true,
    "editable": true
   },
   "source": [
    "# Hypothesis testing and evaluation"
   ]
  },
  {
   "cell_type": "markdown",
   "metadata": {
    "deletable": true,
    "editable": true
   },
   "source": [
    "## EXERCISE: Comparing mobile behaviour\n",
    "\n",
    "### Experimental setup\n",
    "\n",
    "Adapted from http://www.beefissuesquarterly.com/beefissuesquarterly.aspx?id=4078.\n",
    "\n",
    "*Problem*: Find out whether there is a difference in mobile behaviour between generations.\n",
    "\n",
    "*Question*: Is there any difference between groups?\n",
    "\n",
    "*Null hypothesis*: Group means are the same."
   ]
  },
  {
   "cell_type": "markdown",
   "metadata": {
    "deletable": true,
    "editable": true
   },
   "source": [
    "### Generate generation data\n",
    "\n",
    "Imagine we conducted a survey of 200 baby boomers (born 1945-1960), 200 generation xers (born 1961-1980) and 200 millennials (born 1981-1995).\n",
    "\n",
    "For the purposes of this exercise, let's generate some simulated samples. We assume:\n",
    "- Boomers send 5 texts per day on average with standard deviation 2;\n",
    "- GenXers send 12 texts per day on average with standard deviation 3;\n",
    "- Millennials send 20 texts per day on average with standard deviation 5.\n",
    "\n",
    "We use `numpy.random.normal` to generate random values from a normal distribution with these parameters"
   ]
  },
  {
   "cell_type": "code",
   "execution_count": 1,
   "metadata": {
    "collapsed": false,
    "deletable": true,
    "editable": true
   },
   "outputs": [],
   "source": [
    "import numpy as np\n",
    "N = 200\n",
    "B_mu, B_sigma = 5, 2\n",
    "X_mu, X_sigma = 12, 3\n",
    "M_mu, M_sigma = 20, 5\n",
    "B_data = [int(round(n)) for n in np.random.normal(B_mu, B_sigma, N)]\n",
    "X_data = [int(round(n)) for n in np.random.normal(X_mu, X_sigma, N)]\n",
    "M_data = [int(round(n)) for n in np.random.normal(M_mu, M_sigma, N)]"
   ]
  },
  {
   "cell_type": "markdown",
   "metadata": {
    "deletable": true,
    "editable": true
   },
   "source": [
    "### Visualise generation data\n",
    "\n",
    "Let's use the `matplotlib.pyplot.hist` function to plot our visualise our three distributions."
   ]
  },
  {
   "cell_type": "code",
   "execution_count": 2,
   "metadata": {
    "collapsed": false,
    "deletable": true,
    "editable": true
   },
   "outputs": [
    {
     "data": {
      "image/png": "[encoded data removed]",
      "text/plain": [
       "<matplotlib.figure.Figure at 0x1152e05f8>"
      ]
     },
     "metadata": {},
     "output_type": "display_data"
    }
   ],
   "source": [
    "%matplotlib inline\n",
    "import matplotlib.pyplot as plt\n",
    "import matplotlib.patches as mpatches\n",
    "start,end,n_bins = 0,30,30\n",
    "_,_,_ = plt.hist(B_data, bins=n_bins, range=(start,end), color='blue')\n",
    "_,_,_ = plt.hist(X_data, bins=n_bins, range=(start,end), color='purple')\n",
    "_,_,_ = plt.hist(M_data, bins=n_bins, range=(start,end), color='red')\n",
    "_ = plt.legend(handles=[mpatches.Patch(color='blue', label='Boomers'),\n",
    "                    mpatches.Patch(color='purple', label='GenXers'),\n",
    "                    mpatches.Patch(color='red', label='Millennials')])\n",
    "_ = plt.xlabel('Number of texts per day (t)')\n",
    "_ = plt.ylabel('Number of responses for t')"
   ]
  },
  {
   "cell_type": "markdown",
   "metadata": {
    "deletable": true,
    "editable": true
   },
   "source": [
    "### TODO Test for differences\n",
    "\n",
    "- Use one-way analysis of variance (ANOVA) to test whether the sample means are the same.\n",
    "- Can we reject the null hypothesis at p<0.01?\n",
    "- Is there a reliable difference in texting behaviour between generations?"
   ]
  },
  {
   "cell_type": "code",
   "execution_count": 3,
   "metadata": {
    "collapsed": false,
    "deletable": true,
    "editable": true
   },
   "outputs": [
    {
     "name": "stdout",
     "output_type": "stream",
     "text": [
      "True\n"
     ]
    }
   ],
   "source": [
    "from scipy import stats\n",
    "anova_result = stats.f_oneway(B_data, X_data, M_data)\n",
    "print(bool(anova_result.pvalue < 0.01))"
   ]
  },
  {
   "cell_type": "markdown",
   "metadata": {
    "deletable": true,
    "editable": true
   },
   "source": [
    "### TODO Check ANOVA assumptions\n",
    "\n",
    "- Does our data meet the assumptions for a one-way ANOVA?\n",
    "- Can we reject the null hypothesis using the Kruskall-Wallis H-test?\n",
    "- Is there a reliable difference in texting behaviour between generations?"
   ]
  },
  {
   "cell_type": "code",
   "execution_count": 4,
   "metadata": {
    "collapsed": false,
    "deletable": true,
    "editable": true
   },
   "outputs": [
    {
     "name": "stdout",
     "output_type": "stream",
     "text": [
      "Can we reject H0? Yes\n",
      "Is there a reliable difference? Almost certainly..\n",
      "(There is a 4.103778739819487e-103% chance of falsely obtaining this result)\n"
     ]
    }
   ],
   "source": [
    "# 1 - Our data sets are independent and normal, however, standard deviations are not equal.\n",
    "\n",
    "# 2 - \n",
    "kw_result = stats.kruskal(B_data, X_data, M_data)\n",
    "print('Can we reject H0?', 'Yes' if kw_result.pvalue<0.01 else 'No')\n",
    "\n",
    "# 3 - \n",
    "print('Is there a reliable difference? Almost certainly..')\n",
    "print('(There is a {}% chance of falsely obtaining this result)'.format(kw_result.pvalue*100))"
   ]
  },
  {
   "cell_type": "markdown",
   "metadata": {
    "deletable": true,
    "editable": true
   },
   "source": [
    "### TODO Further generation exercises\n",
    "\n",
    "Imagine we wanted to compare millennials to generation z (born since 1996). Let's assume this population sends 21 texts per day on average with standard deviation 5.\n",
    "\n",
    "- Generate a simulated sample Z_data.\n",
    "- What test should we use?\n",
    "- Is there a reliable difference in texting behaviour between millennials and generation Z?"
   ]
  },
  {
   "cell_type": "code",
   "execution_count": 5,
   "metadata": {
    "collapsed": false,
    "deletable": true,
    "editable": true
   },
   "outputs": [
    {
     "name": "stdout",
     "output_type": "stream",
     "text": [
      "Is there a reliable difference? No (p=0.764)\n"
     ]
    }
   ],
   "source": [
    "# 1 - \n",
    "Z_mu, Z_sigma = 21, 5\n",
    "Z_data = [int(round(n)) for n in np.random.normal(Z_mu, Z_sigma, N)]\n",
    "\n",
    "# 2 - Either will work since standard deviations are equal.\n",
    "\n",
    "# 3 - \n",
    "mz_anova_result = stats.f_oneway(M_data, Z_data)\n",
    "print('Is there a reliable difference?',\n",
    "      'Yes' if mz_anova_result.pvalue<0.01 else 'No',\n",
    "      '(p={:.3f})'.format(mz_anova_result.pvalue))"
   ]
  },
  {
   "cell_type": "markdown",
   "metadata": {
    "deletable": true,
    "editable": true
   },
   "source": [
    "## *STOP PLEASE. THE FOLLOWING IS FOR THE NEXT EXERCISE. THANKS.*"
   ]
  },
  {
   "cell_type": "markdown",
   "metadata": {
    "collapsed": true,
    "deletable": true,
    "editable": true
   },
   "source": [
    "## EXERCISE: Comparing layouts\n",
    "\n",
    "### Experimental setup\n",
    "\n",
    "*Problem*: Find out which version of a display is better.\n",
    "\n",
    "*Question*: Do users prefer grid view?\n",
    "\n",
    "*Null hypothesis*: Users do not prefer grid view."
   ]
  },
  {
   "cell_type": "markdown",
   "metadata": {
    "deletable": true,
    "editable": true
   },
   "source": [
    "### Create ratings data\n",
    "\n",
    "We assume different subject groups for each conditions. Each subject sees one of the layouts and is asked to rate on a 5-point Likert scale how strongly the agree or disagree with the statement:\n",
    "\n",
    "> Page gives a good overview.\n",
    "> \n",
    "> 1=strongly agree; 2=agree; 3=neutral; 4=disagree; 5=strongly disagree\n",
    "\n",
    "G_data corresponds to ratings from users that see the grid view. L_data corresponds to ratings from users that see the list view."
   ]
  },
  {
   "cell_type": "code",
   "execution_count": 6,
   "metadata": {
    "collapsed": false,
    "deletable": true,
    "editable": true
   },
   "outputs": [
    {
     "name": "stdout",
     "output_type": "stream",
     "text": [
      "Grid median: 2.5\n",
      "List median: 4.0\n"
     ]
    }
   ],
   "source": [
    "G_data = [1, 3, 3, 2, 4, 2, 3, 3, 1, 5, 2, 3, 4, 2, 1, 3, 2, 2, 1, 3,\n",
    "          2, 3, 4, 2, 1, 3, 2, 2, 1, 3, 1, 3, 3, 2, 4, 2, 3, 3, 1, 5]\n",
    "L_data = [4, 5, 2, 4, 4, 3, 5, 4, 3, 5, 1, 4, 5, 3, 4, 4, 2, 3, 4, 5,\n",
    "          1, 4, 5, 3, 4, 4, 2, 3, 4, 5, 4, 5, 2, 4, 4, 3, 5, 4, 3, 5]\n",
    "print('Grid median:', np.median(G_data))\n",
    "print('List median:', np.median(L_data))"
   ]
  },
  {
   "cell_type": "markdown",
   "metadata": {
    "deletable": true,
    "editable": true
   },
   "source": [
    "### Visualise ratings data"
   ]
  },
  {
   "cell_type": "code",
   "execution_count": 7,
   "metadata": {
    "collapsed": false,
    "deletable": true,
    "editable": true
   },
   "outputs": [
    {
     "data": {
      "image/png": "[encoded data removed]",
      "text/plain": [
       "<matplotlib.figure.Figure at 0x1152eb400>"
      ]
     },
     "metadata": {},
     "output_type": "display_data"
    }
   ],
   "source": [
    "%matplotlib inline\n",
    "from collections import Counter\n",
    "import matplotlib.pyplot as plt\n",
    "\n",
    "def count(data):\n",
    "    c = Counter(data)\n",
    "    return list(c.keys()), list(c.values())\n",
    "\n",
    "G_bins, G_freqs = count(G_data)\n",
    "L_bins, L_freqs = count(L_data)\n",
    "bar_width = 0.35\n",
    "\n",
    "_ = plt.bar([b-bar_width for b in G_bins], G_freqs, bar_width, color='blue', label='Grid')\n",
    "_ = plt.bar(L_bins, L_freqs, bar_width, color='purple', label='List')\n",
    "\n",
    "plt.xlim(0.5, 5.5)\n",
    "plt.ylim(0,20)\n",
    "_ = plt.legend()"
   ]
  },
  {
   "cell_type": "markdown",
   "metadata": {
    "deletable": true,
    "editable": true
   },
   "source": [
    "### TODO Test whether grid is preferred\n",
    "\n",
    "- Can we reject the null hypothesis at p<0.01 using the Mann-Whitney U test?\n",
    "- Do users prefer grid view?"
   ]
  },
  {
   "cell_type": "code",
   "execution_count": 8,
   "metadata": {
    "collapsed": false,
    "deletable": true,
    "editable": true
   },
   "outputs": [
    {
     "name": "stdout",
     "output_type": "stream",
     "text": [
      "Can we reject H0? Yes\n",
      "Is there a reliable difference? Yes (p=0.000005)\n"
     ]
    }
   ],
   "source": [
    "# 1 -\n",
    "mwu_result = stats.mannwhitneyu(G_data, L_data)\n",
    "print('Can we reject H0?', 'Yes' if mwu_result.pvalue<0.01 else 'No')\n",
    "\n",
    "# 2 -\n",
    "print('Is there a reliable difference?',\n",
    "      'Yes' if mwu_result.pvalue<0.01 else 'No',\n",
    "      '(p={:.6f})'.format(mwu_result.pvalue))"
   ]
  },
  {
   "cell_type": "markdown",
   "metadata": {
    "deletable": true,
    "editable": true
   },
   "source": [
    "### TODO p-hacking example\n",
    "\n",
    "Imagine we instead measured average montly spend. Let's assume a sample of 1000 grid users spend \\$155 on average with standard deviation 40, and a sample of 1000 list users spend \\$150 on average with standard deviation 40."
   ]
  },
  {
   "cell_type": "code",
   "execution_count": 12,
   "metadata": {
    "collapsed": false,
    "deletable": true,
    "editable": true
   },
   "outputs": [],
   "source": [
    "import numpy as np\n",
    "N = 1000\n",
    "G_mu, G_sigma = 155, 40\n",
    "L_mu, L_sigma = 150, 40\n",
    "\n",
    "def run_experiment():\n",
    "    G_spend = np.random.normal(G_mu, G_sigma, N)\n",
    "    L_spend = np.random.normal(L_mu, L_sigma, N)\n",
    "    return stats.ttest_ind(G_spend, L_spend).pvalue*0.5 # one-tailed for testing G_mu > L_mu"
   ]
  },
  {
   "cell_type": "markdown",
   "metadata": {
    "deletable": true,
    "editable": true
   },
   "source": [
    "- Run 1000 experiments\n",
    "- For what percentage of experiments do we fail to reject the null hypothesis at 0.05?\n",
    "- Do your neighbours get the same percentage?\n",
    "- How can we avoid false rejections?"
   ]
  },
  {
   "cell_type": "code",
   "execution_count": 13,
   "metadata": {
    "collapsed": false,
    "deletable": true,
    "editable": true
   },
   "outputs": [
    {
     "name": "stdout",
     "output_type": "stream",
     "text": [
      "We fail to reject H0 12% of the time.\n"
     ]
    }
   ],
   "source": [
    "# 1 - \n",
    "NUM_EXPTS = 10000\n",
    "pvalues = [run_experiment() for _ in range(NUM_EXPTS)]\n",
    "\n",
    "# 2 -\n",
    "ALPHA = 0.05\n",
    "print('We fail to reject H0 {:.0f}% of the time.'.format(100*sum([1 if p>ALPHA else 0 for p in pvalues])/NUM_EXPTS))\n",
    "\n",
    "# 3 - You can also run multiple times. The result varies with different samples even though it's generated from the same population!\n",
    "\n",
    "# 4 - Try increasing N above to 10000."
   ]
  },
  {
   "cell_type": "markdown",
   "metadata": {
    "deletable": true,
    "editable": true
   },
   "source": [
    "## *STOP PLEASE. THE FOLLOWING IS FOR THE NEXT EXERCISE. THANKS.*"
   ]
  },
  {
   "cell_type": "markdown",
   "metadata": {
    "deletable": true,
    "editable": true
   },
   "source": [
    "## EXERCISE: Comparing classifiers\n",
    "\n",
    "### Experimental setup\n",
    "\n",
    "*Problem*: Determine which classifer is better.\n",
    "\n",
    "*Question*: Is my shiny, new model better?\n",
    "\n",
    "*Null hypothesis*: The new model is not better."
   ]
  },
  {
   "cell_type": "markdown",
   "metadata": {
    "deletable": true,
    "editable": true
   },
   "source": [
    "### Generate gold and classifier labellings\n",
    "\n",
    "We generate 10,000 gold labels, marking a approximately 20% as spam (1) based on a random number generator and the rest as ham (0)."
   ]
  },
  {
   "cell_type": "code",
   "execution_count": 15,
   "metadata": {
    "collapsed": false,
    "deletable": true,
    "editable": true
   },
   "outputs": [],
   "source": [
    "import random\n",
    "random.random()\n",
    "N = 10000\n",
    "GOLD_PCT_SPAM = 0.2\n",
    "Y_gold = [int(random.random()<GOLD_PCT_SPAM) for _ in range(N)]"
   ]
  },
  {
   "cell_type": "code",
   "execution_count": null,
   "metadata": {
    "collapsed": true
   },
   "outputs": [],
   "source": []
  },
  {
   "cell_type": "markdown",
   "metadata": {
    "deletable": true,
    "editable": true
   },
   "source": [
    "We generate two system labellings by ranodomly flipping gold labels assuming:\n",
    "- System 1 incorrectly marks 5% of ham as spam and fails to detect 20% of actual spam,\n",
    "- System 2 incorrectly marks 10% of ham as spam and fails to detect 10% of actual spam."
   ]
  },
  {
   "cell_type": "code",
   "execution_count": 16,
   "metadata": {
    "collapsed": false,
    "deletable": true,
    "editable": true
   },
   "outputs": [],
   "source": [
    "SYS1_ERROR_RATES = {\n",
    "    0: 0.05,  # spurious: sys1 incorrectly marks 5% of ham as spam\n",
    "    1: 0.2,   # misses: sys1 fails to detect 20% of spam\n",
    "}\n",
    "SYS2_ERROR_RATES = {\n",
    "    0: 0.1,  # spurious: sys2 incorrectly marks 10% of ham as spam\n",
    "    1: 0.1   # misses: sys2 fails to detect 10% of spam\n",
    "}\n",
    "\n",
    "def simulate_predictions(Yg, error_rates):\n",
    "    for y in Yg:\n",
    "        if random.random()<error_rates[y]:\n",
    "            yield 1-y\n",
    "        else:\n",
    "            yield y\n",
    "\n",
    "Y_sys1 = list(simulate_predictions(Y_gold, SYS1_ERROR_RATES))\n",
    "Y_sys2 = list(simulate_predictions(Y_gold, SYS2_ERROR_RATES))"
   ]
  },
  {
   "cell_type": "code",
   "execution_count": 17,
   "metadata": {
    "collapsed": false,
    "deletable": true,
    "editable": true
   },
   "outputs": [
    {
     "data": {
      "image/png": "[encoded data removed]",
      "text/plain": [
       "<matplotlib.figure.Figure at 0x1158323c8>"
      ]
     },
     "metadata": {},
     "output_type": "display_data"
    }
   ],
   "source": [
    "%matplotlib inline\n",
    "import matplotlib.pyplot as plt\n",
    "from collections import Counter\n",
    "\n",
    "def class_distr(Y):\n",
    "    return zip(*sorted(Counter(Y).items()))\n",
    "\n",
    "gold_classes, gold_freqs = class_distr(Y_gold)\n",
    "sys1_classes, sys1_freqs = class_distr(Y_sys1)\n",
    "sys2_classes, sys2_freqs = class_distr(Y_sys2)\n",
    "\n",
    "bar_width = 0.2\n",
    "\n",
    "_ = plt.bar([b-(1.5*bar_width) for b in gold_classes], gold_freqs, bar_width, color='yellow', label='Gold')\n",
    "_ = plt.bar([b-(0.5*bar_width) for b in sys1_classes], sys1_freqs, bar_width, color='blue', label='Sys1')\n",
    "_ = plt.bar([b+(0.5*bar_width) for b in sys2_classes], sys2_freqs, bar_width, color='indigo', label='Sys1')\n",
    "\n",
    "plt.xticks([0,1], ['0 (ham)', '1 (spam)'])\n",
    "plt.ylabel('Number of instances per label')\n",
    "\n",
    "_ = plt.legend()"
   ]
  },
  {
   "cell_type": "markdown",
   "metadata": {
    "deletable": true,
    "editable": true
   },
   "source": [
    "### Split data into folds"
   ]
  },
  {
   "cell_type": "code",
   "execution_count": 18,
   "metadata": {
    "collapsed": false,
    "deletable": true,
    "editable": true
   },
   "outputs": [],
   "source": [
    "import numpy as np\n",
    "NUM_FOLDS = 10\n",
    "Y_gold_folds = np.array_split(Y_gold, NUM_FOLDS)\n",
    "Y_sys1_folds = np.array_split(Y_sys1, NUM_FOLDS)\n",
    "Y_sys2_folds = np.array_split(Y_sys2, NUM_FOLDS)"
   ]
  },
  {
   "cell_type": "markdown",
   "metadata": {
    "deletable": true,
    "editable": true
   },
   "source": [
    "### TODO Calculating classifier accuracy\n",
    "\n",
    "- Calculate accuracy and f1 scores on first fold.\n",
    "- Which system has higher accuracy?\n",
    "- Which system has higher f1 score?\n",
    "- Which measure has better sensitivity for comparisons?\n",
    "- Which measure would you rather report?"
   ]
  },
  {
   "cell_type": "code",
   "execution_count": 19,
   "metadata": {
    "collapsed": false,
    "deletable": true,
    "editable": true
   },
   "outputs": [
    {
     "name": "stdout",
     "output_type": "stream",
     "text": [
      "System 1 accuracy: 0.917\n",
      "System 2 accuracy: 0.889\n",
      "System 1 f1 score: 0.798053527981\n",
      "System 2 f1 score: 0.776659959759\n"
     ]
    }
   ],
   "source": [
    "from sklearn.metrics import accuracy_score, precision_score, recall_score, f1_score\n",
    "\n",
    "PRF_KWARGS = {\n",
    "    'pos_label': 1,     # 1 is the positive spam label\n",
    "    'average': 'binary' # evaluate p/r/f of the positive label\n",
    "}\n",
    "\n",
    "Yg0 = Y_gold_folds[0]\n",
    "Y10 = Y_sys1_folds[0] \n",
    "Y20 = Y_sys2_folds[0]\n",
    "\n",
    "print(\"System 1 accuracy:\", accuracy_score(Yg0, Y10))\n",
    "print(\"System 2 accuracy:\", accuracy_score(Yg0, Y20))\n",
    "print(\"System 1 f1 score:\", f1_score(Yg0, Y10, **PRF_KWARGS))\n",
    "print(\"System 2 f1 score:\", f1_score(Yg0, Y20, **PRF_KWARGS))"
   ]
  },
  {
   "cell_type": "markdown",
   "metadata": {
    "deletable": true,
    "editable": true
   },
   "source": [
    "- Calculate precision and recall scores on first fold.\n",
    "- Which system has higher precision?\n",
    "- Which system has higher recall?\n",
    "- Formulate precision and recall in terms GOLD_PCT_SPAM, SPURIOUS_ERROR_RATE and MISSED_ERROR_RATE\n",
    "- Are precision and recall values as expected?"
   ]
  },
  {
   "cell_type": "code",
   "execution_count": 20,
   "metadata": {
    "collapsed": false,
    "deletable": true,
    "editable": true
   },
   "outputs": [
    {
     "name": "stdout",
     "output_type": "stream",
     "text": [
      "System 1 precision / recall: 0.800 / 0.796\n",
      "System 2 precision / recall: 0.663 / 0.937\n",
      "Which system has higher precision? System 1\n",
      "Which system has higher recall? System 2\n",
      "System 1: 0.800 / 0.800\n",
      "System 2: 0.692 / 0.900\n"
     ]
    }
   ],
   "source": [
    "# 1 - \n",
    "s1p = precision_score(Yg0, Y10, **PRF_KWARGS)\n",
    "s1r = recall_score(Yg0, Y10, **PRF_KWARGS)\n",
    "print(\"System 1 precision / recall: {:.3f} / {:.3f}\".format(s1p, s1r))\n",
    "s2p = precision_score(Yg0, Y20, **PRF_KWARGS)\n",
    "s2r = recall_score(Yg0, Y20, **PRF_KWARGS)\n",
    "print(\"System 2 precision / recall: {:.3f} / {:.3f}\".format(s2p, s2r))\n",
    "\n",
    "# 2 - \n",
    "print('Which system has higher precision?', 'System 1' if s1p>s2p else 'System 2')\n",
    "\n",
    "# 3 - \n",
    "print('Which system has higher recall?', 'System 1' if s1r>s2r else 'System 2')\n",
    "\n",
    "# 4 - \n",
    "def p_and_r(gold_pct_spam, error_rates):\n",
    "    spurious_error_rate = error_rates[0]\n",
    "    missed_error_rate = error_rates[1]\n",
    "    tp = gold_pct_spam*(1-missed_error_rate)\n",
    "    fp = spurious_error_rate*(1-gold_pct_spam)\n",
    "    precision = tp/(fp+tp)\n",
    "    recall = tp/gold_pct_spam\n",
    "    return precision, recall\n",
    "print(\"System 1: {:.3f} / {:.3f}\".format(*p_and_r(GOLD_PCT_SPAM, SYS1_ERROR_RATES)))\n",
    "print(\"System 2: {:.3f} / {:.3f}\".format(*p_and_r(GOLD_PCT_SPAM, SYS2_ERROR_RATES)))\n",
    "\n",
    "# 5 - Close, closer with higher N (e.g., 1,000,000)"
   ]
  },
  {
   "cell_type": "markdown",
   "metadata": {
    "deletable": true,
    "editable": true
   },
   "source": [
    "### TODO Calculate accuracy score across folds\n",
    "\n",
    "- Calculate accuracy across folds\n",
    "- Compare mean and standard deviation"
   ]
  },
  {
   "cell_type": "code",
   "execution_count": 21,
   "metadata": {
    "collapsed": false,
    "deletable": true,
    "editable": true
   },
   "outputs": [
    {
     "name": "stdout",
     "output_type": "stream",
     "text": [
      "System 1 mu, sigma: 0.9176 0.00678527818147\n",
      "System 2 mu, sigma: 0.8983 0.0138423263941\n"
     ]
    }
   ],
   "source": [
    "def score_folds(Ygf, Ysf, scorer, **kwargs):\n",
    "    for Yg, Ys in zip(Ygf, Ysf):\n",
    "        yield scorer(Yg, Ys, **kwargs)\n",
    "        \n",
    "Y_sys1_accuracy = list(score_folds(Y_gold_folds, Y_sys1_folds, accuracy_score))\n",
    "Y_sys2_accuracy = list(score_folds(Y_gold_folds, Y_sys2_folds, accuracy_score))\n",
    "\n",
    "print(\"System 1 mu, sigma:\", np.mean(Y_sys1_accuracy), np.std(Y_sys1_accuracy))\n",
    "print(\"System 2 mu, sigma:\", np.mean(Y_sys2_accuracy), np.std(Y_sys2_accuracy))\n"
   ]
  },
  {
   "cell_type": "markdown",
   "metadata": {
    "deletable": true,
    "editable": true
   },
   "source": [
    "- Calculate f1_score across folds\n",
    "- Compare mean and standard deviation"
   ]
  },
  {
   "cell_type": "code",
   "execution_count": null,
   "metadata": {
    "collapsed": false,
    "deletable": true,
    "editable": true
   },
   "outputs": [],
   "source": [
    "Y_sys1_f1 = list(score_folds(Y_gold_folds, Y_sys1_folds, f1_score, **PRF_KWARGS))\n",
    "Y_sys2_f1 = list(score_folds(Y_gold_folds, Y_sys2_folds, f1_score, **PRF_KWARGS))\n",
    "\n",
    "print(\"System 1 mu, sigma:\", np.mean(Y_sys1_f1), np.std(Y_sys1_f1))\n",
    "print(\"System 2 mu, sigma:\", np.mean(Y_sys2_f1), np.std(Y_sys2_f1))"
   ]
  },
  {
   "cell_type": "markdown",
   "metadata": {
    "deletable": true,
    "editable": true
   },
   "source": [
    "### TODO Compute signficance for H1 sys1 > sys2\n",
    "\n",
    "- Calculate one-sided paired t-test for accuracy and f1 score\n",
    "- How do your average scores compare to your neighbours (or across multiple runs)?\n",
    "- How do your p-values compare to your neighbours (or across multiple runs)?\n",
    "- Would you expect this variation in a real experiment?\n",
    "- What does this variation say about reliability of experiments?\n",
    "- How can we increase reliability?"
   ]
  },
  {
   "cell_type": "code",
   "execution_count": 22,
   "metadata": {
    "collapsed": false,
    "deletable": true,
    "editable": true
   },
   "outputs": [
    {
     "name": "stdout",
     "output_type": "stream",
     "text": [
      "P-value for H1 sys1 (mu=0.918) > sys2 (mu=0.898) by accuracy_score:\n",
      "0.00205208756653\n",
      "P-value for H1 sys1 (mu=0.797) > sys2 (mu=0.783) by f1_score:\n",
      "0.0841094260981\n"
     ]
    }
   ],
   "source": [
    "def ttest_across_folds(Ygf, Y1f, Y2f, scorer, **kwargs):\n",
    "    sys1_scores = list(score_folds(Ygf, Y1f, scorer, **kwargs))\n",
    "    sys2_scores = list(score_folds(Ygf, Y2f, scorer, **kwargs))\n",
    "    print(\"P-value for H1 sys1 (mu={:.3f}) > sys2 (mu={:.3f}) by {}:\"\\\n",
    "          .format(np.mean(sys1_scores), np.mean(sys2_scores), scorer.__name__))\n",
    "    print(stats.ttest_rel(sys1_scores, sys2_scores).pvalue*0.5)\n",
    "\n",
    "# 1 - \n",
    "ttest_across_folds(Y_gold_folds, Y_sys1_folds, Y_sys2_folds, accuracy_score)\n",
    "ttest_across_folds(Y_gold_folds, Y_sys1_folds, Y_sys2_folds, f1_score, **PRF_KWARGS)\n",
    "\n",
    "# 2 - Average scores change across multiple data samples even though it's generated from the same population!\n",
    "\n",
    "# 3 - P-values don't change on the same data. They do change across different data samples.\n",
    "\n",
    "# 4 - Average scores should only change if the sample is not fixed, or if folds are sampled randomly.\n",
    "\n",
    "# 5 - The variation highlights the fact that we always need to be careful generalising results to unseen data.\n",
    "#     It also highlights the importance of selecting samples that are representative of the population.\n",
    "\n",
    "# 6 - Significance testing helps us quantify reliability. Larger sample sizes help ensure reliability."
   ]
  },
  {
   "cell_type": "markdown",
   "metadata": {
    "deletable": true,
    "editable": true
   },
   "source": [
    "## *STOP PLEASE. THE FOLLOWING IS FOR THE NEXT EXERCISE. THANKS.*"
   ]
  },
  {
   "cell_type": "markdown",
   "metadata": {
    "deletable": true,
    "editable": true
   },
   "source": [
    "## EXERCISE: Confidence intervals\n",
    "\n",
    "[Adapted from Data Science from Scratch pages 183-184 and http://people.duke.edu/~ccc14/pcfb/analysis.html.]\n",
    "\n",
    "Imagine we want to quantify the variance of the mean score within a sample but we can't or don't want to run our classifier multiple times. We can use bootstrap resampling to do this."
   ]
  },
  {
   "cell_type": "markdown",
   "metadata": {
    "deletable": true,
    "editable": true
   },
   "source": [
    "### Generate non-normal data\n",
    "\n",
    "First let's generate some data according to a beta distribution with a=8 and b=2."
   ]
  },
  {
   "cell_type": "code",
   "execution_count": 23,
   "metadata": {
    "collapsed": false,
    "deletable": true,
    "editable": true
   },
   "outputs": [
    {
     "data": {
      "image/png": "[encoded data removed]",
      "text/plain": [
       "<matplotlib.figure.Figure at 0x11a2a1cf8>"
      ]
     },
     "metadata": {},
     "output_type": "display_data"
    }
   ],
   "source": [
    "%matplotlib inline\n",
    "import numpy as np\n",
    "import matplotlib.pyplot as plt\n",
    "N = 1000\n",
    "a = 8\n",
    "b = 2\n",
    "D = [np.random.beta(a, b) for _ in range(N)]\n",
    "_, _, _ = plt.hist(D, bins=100, color='blue')"
   ]
  },
  {
   "cell_type": "markdown",
   "metadata": {
    "deletable": true,
    "editable": true
   },
   "source": [
    "### Bootstrapping a statistic\n",
    "\n",
    "We define functions to randomly sample elements with replacement and to apply a statistic funcion over these samples many times. \n",
    "\n",
    "Note: Please be patient. This takes a little bit of time."
   ]
  },
  {
   "cell_type": "code",
   "execution_count": 24,
   "metadata": {
    "collapsed": false,
    "deletable": true,
    "editable": true
   },
   "outputs": [
    {
     "name": "stdout",
     "output_type": "stream",
     "text": [
      "[0.79314046280219508, 0.79516947876317479, 0.79629322685252646, 0.80184530407095644, 0.79682251343769095]\n"
     ]
    }
   ],
   "source": [
    "S = 100\n",
    "\n",
    "def bootstrap_sample(data):\n",
    "    return [np.random.choice(data) for _ in data]\n",
    "\n",
    "def bootstrap_statistic(data, stats_fn, num_samples):\n",
    "    return [stats_fn(bootstrap_sample(data)) for _ in range(num_samples)]\n",
    "\n",
    "bs_mean = bootstrap_statistic(D, np.mean, S)\n",
    "print(bs_mean[:5])"
   ]
  },
  {
   "cell_type": "markdown",
   "metadata": {
    "deletable": true,
    "editable": true
   },
   "source": [
    "### Computing the confidence interval\n",
    "\n",
    "Finally we define a function to compute the confidence interval at a given level. For the `level` parameter, 0.05 corresponds to a 95% confidence interval."
   ]
  },
  {
   "cell_type": "code",
   "execution_count": 25,
   "metadata": {
    "collapsed": false,
    "deletable": true,
    "editable": true
   },
   "outputs": [
    {
     "name": "stdout",
     "output_type": "stream",
     "text": [
      "0.794 [0.782,0.802]\n"
     ]
    }
   ],
   "source": [
    "def bootstrap_ci(stats, level):\n",
    "    lower_percentile = 0.5*level\n",
    "    upper_percentile = 100 - 0.5*level\n",
    "    return np.percentile(stats, lower_percentile), np.percentile(stats, upper_percentile)\n",
    "\n",
    "lb, ub = bootstrap_ci(bs_mean, 0.05)\n",
    "\n",
    "print('{:.3f} [{:.3f},{:.3f}]'.format(np.mean(D), lb, ub))"
   ]
  },
  {
   "cell_type": "markdown",
   "metadata": {
    "deletable": true,
    "editable": true
   },
   "source": [
    "- Bootstrap median statistic and calculate confidence interval\n",
    "- Discussion: When are confidence intervals better than standard deviation?\n",
    "- Discussion: When could we use a bootstrap CI?"
   ]
  },
  {
   "cell_type": "code",
   "execution_count": 26,
   "metadata": {
    "collapsed": false,
    "deletable": true,
    "editable": true
   },
   "outputs": [
    {
     "name": "stdout",
     "output_type": "stream",
     "text": [
      "[0.80864716411849447, 0.81874920841335019, 0.81021449153375369, 0.81415108430811856, 0.82096647326415417]\n",
      "0.813 [0.803,0.823]\n"
     ]
    }
   ],
   "source": [
    "# 1 - \n",
    "bs_median = bootstrap_statistic(D, np.median, S)\n",
    "print(bs_median[:5])\n",
    "lb_median, ub_median = bootstrap_ci(bs_median, 0.05)\n",
    "print('{:.3f} [{:.3f},{:.3f}]'.format(np.median(D), lb_median, ub_median))\n",
    "\n",
    "# 2 - From Frost. Understanding Hypothesis Tests: Confidence Intervals and Confidence Levels..\n",
    "#     http://blog.minitab.com/blog/adventures-in-statistics/understanding-hypothesis-tests%3A-confidence-intervals-and-confidence-levels\n",
    "#     Confidence intervals serve as good estimates of the population parameter because the procedure tends to produce \n",
    "#     intervals that contain the parameter. Confidence intervals are comprised of the point estimate (the most likely \n",
    "#     value) and a margin of error around that point estimate. The margin of error indicates the amount of uncertainty \n",
    "#     that surrounds the sample estimate of the population parameter.\n",
    "#     In this vein, you can use confidence intervals to assess the precision of the sample estimate. For a specific \n",
    "#     variable, a narrower confidence interval [90 110] suggests a more precise estimate of the population parameter \n",
    "#     than a wider confidence interval [50 150].\n",
    "\n",
    "# 3 - The bootstrap is a general, nonparametric procedure for calculating CIs."
   ]
  },
  {
   "cell_type": "code",
   "execution_count": null,
   "metadata": {
    "collapsed": true,
    "deletable": true,
    "editable": true
   },
   "outputs": [],
   "source": []
  }
 ],
 "metadata": {
  "kernelspec": {
   "display_name": "Python 3",
   "language": "python",
   "name": "python3"
  },
  "language_info": {
   "codemirror_mode": {
    "name": "ipython",
    "version": 3
   },
   "file_extension": ".py",
   "mimetype": "text/x-python",
   "name": "python",
   "nbconvert_exporter": "python",
   "pygments_lexer": "ipython3",
   "version": "3.6.0"
  }
 },
 "nbformat": 4,
 "nbformat_minor": 0
}
