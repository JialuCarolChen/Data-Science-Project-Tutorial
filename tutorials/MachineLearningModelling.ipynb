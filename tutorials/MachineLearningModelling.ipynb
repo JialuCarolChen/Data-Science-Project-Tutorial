{
 "cells": [
  {
   "cell_type": "markdown",
   "metadata": {},
   "source": [
    "# Machine learning\n",
    "\n",
    "## EXERCISE: Simple linear regression from scratch\n",
    "\n",
    "[Adapted from Data Science from Scratch, Ch. 14.]\n",
    "\n",
    "For this exercise, we'll build simple linear regression from scratch following the text book.\n",
    "\n",
    "We'll use the data from the book's imaginary social network (DataSciencester):\n",
    "\n",
    "* `num_friends` is the friend count for each user.\n",
    "* `daily_minutes` is the average time spend per day on the site for each user."
   ]
  },
  {
   "cell_type": "code",
   "execution_count": 1,
   "metadata": {
    "collapsed": true
   },
   "outputs": [],
   "source": [
    "num_friends = [100,49,41,40,25,21,21,19,19,18,18,16,15,15,15,15,14,14,13,13,13,13,12,12,11,10,10,10,10,10,10,10,10,10,10,10,10,10,10,10,9,9,9,9,9,9,9,9,9,9,9,9,9,9,9,9,9,9,8,8,8,8,8,8,8,8,8,8,8,8,8,7,7,7,7,7,7,7,7,7,7,7,7,7,7,7,6,6,6,6,6,6,6,6,6,6,6,6,6,6,6,6,6,6,6,6,6,6,5,5,5,5,5,5,5,5,5,5,5,5,5,5,5,5,5,4,4,4,4,4,4,4,4,4,4,4,4,4,4,4,4,4,4,4,4,3,3,3,3,3,3,3,3,3,3,3,3,3,3,3,3,3,3,3,3,2,2,2,2,2,2,2,2,2,2,2,2,2,2,2,2,2,1,1,1,1,1,1,1,1,1,1,1,1,1,1,1,1,1,1,1,1,1,1]\n",
    "daily_minutes = [1,68.77,51.25,52.08,38.36,44.54,57.13,51.4,41.42,31.22,34.76,54.01,38.79,47.59,49.1,27.66,41.03,36.73,48.65,28.12,46.62,35.57,32.98,35,26.07,23.77,39.73,40.57,31.65,31.21,36.32,20.45,21.93,26.02,27.34,23.49,46.94,30.5,33.8,24.23,21.4,27.94,32.24,40.57,25.07,19.42,22.39,18.42,46.96,23.72,26.41,26.97,36.76,40.32,35.02,29.47,30.2,31,38.11,38.18,36.31,21.03,30.86,36.07,28.66,29.08,37.28,15.28,24.17,22.31,30.17,25.53,19.85,35.37,44.6,17.23,13.47,26.33,35.02,32.09,24.81,19.33,28.77,24.26,31.98,25.73,24.86,16.28,34.51,15.23,39.72,40.8,26.06,35.76,34.76,16.13,44.04,18.03,19.65,32.62,35.59,39.43,14.18,35.24,40.13,41.82,35.45,36.07,43.67,24.61,20.9,21.9,18.79,27.61,27.21,26.61,29.77,20.59,27.53,13.82,33.2,25,33.1,36.65,18.63,14.87,22.2,36.81,25.53,24.62,26.25,18.21,28.08,19.42,29.79,32.8,35.99,28.32,27.79,35.88,29.06,36.28,14.1,36.63,37.49,26.9,18.58,38.48,24.48,18.95,33.55,14.24,29.04,32.51,25.63,22.22,19,32.73,15.16,13.9,27.2,32.01,29.27,33,13.74,20.42,27.32,18.23,35.35,28.48,9.08,24.62,20.12,35.26,19.92,31.02,16.49,12.16,30.7,31.22,34.65,13.13,27.51,33.2,31.57,14.1,33.42,17.44,10.12,24.42,9.82,23.39,30.93,15.03,21.67,31.09,33.29,22.61,26.89,23.48,8.38,27.81,32.35,23.84]"
   ]
  },
  {
   "cell_type": "markdown",
   "metadata": {},
   "source": [
    "### Preliminary maths functions\n",
    "\n",
    "First we'll define some linear algebra and stats functions (from Ch. 4&5)."
   ]
  },
  {
   "cell_type": "code",
   "execution_count": 2,
   "metadata": {},
   "outputs": [],
   "source": [
    "import math\n",
    "\n",
    "####\n",
    "#\n",
    "# LINEAR ALGEBRA\n",
    "#\n",
    "####\n",
    "\n",
    "def vector_subtract(v, w):\n",
    "    \"\"\"subtracts two vectors componentwise\"\"\"\n",
    "    return [v_i - w_i for v_i, w_i in zip(v,w)]\n",
    "\n",
    "def dot(v, w):\n",
    "    \"\"\"v_1 * w_1 + ... + v_n * w_n\"\"\"\n",
    "    return sum(v_i * w_i for v_i, w_i in zip(v, w))\n",
    "\n",
    "def sum_of_squares(v):\n",
    "    \"\"\"v_1 * v_1 + ... + v_n * v_n\"\"\"\n",
    "    return dot(v, v)\n",
    "\n",
    "####\n",
    "#\n",
    "# STATS\n",
    "#\n",
    "####\n",
    "\n",
    "def mean(x):\n",
    "    return sum(x) / len(x)\n",
    "\n",
    "def de_mean(x):\n",
    "    \"\"\"translate x by subtracting its mean (so the result has mean 0)\"\"\"\n",
    "    x_bar = mean(x)\n",
    "    return [x_i - x_bar for x_i in x]\n",
    "\n",
    "def variance(x):\n",
    "    \"\"\"assumes x has at least two elements\"\"\"\n",
    "    n = len(x)\n",
    "    deviations = de_mean(x)\n",
    "    return sum_of_squares(deviations) / (n - 1)\n",
    "\n",
    "def standard_deviation(x):\n",
    "    return math.sqrt(variance(x))\n",
    "\n",
    "####\n",
    "#\n",
    "# CORRELATION\n",
    "#\n",
    "#####\n",
    "\n",
    "def covariance(x, y):\n",
    "    n = len(x)\n",
    "    return dot(de_mean(x), de_mean(y)) / (n - 1)\n",
    "\n",
    "def correlation(x, y):\n",
    "    stdev_x = standard_deviation(x)\n",
    "    stdev_y = standard_deviation(y)\n",
    "    if stdev_x > 0 and stdev_y > 0:\n",
    "        return covariance(x, y) / stdev_x / stdev_y\n",
    "    else:\n",
    "        return 0 # if no variation, correlation is zero"
   ]
  },
  {
   "cell_type": "markdown",
   "metadata": {},
   "source": [
    "### TODO Compare to numpy/scipy\n",
    "\n",
    "- Compare our functions above to the `mean`, `var` and `std` functions from `numpy`. Are the results effectively the same?\n",
    "- Compare the correlation above to the `pearsonr` function from `scipy.stats`. Are the results effectively the same?"
   ]
  },
  {
   "cell_type": "code",
   "execution_count": 3,
   "metadata": {},
   "outputs": [
    {
     "name": "stdout",
     "output_type": "stream",
     "text": [
      "\n",
      "Comparing stats for number of friends:\n",
      "-----------------------------------------------\n",
      "Statistic            From Numpy    From Scratch\n",
      "-----------------------------------------------\n",
      "mean                       7.33            7.33\n",
      "var                       81.14           81.54\n",
      "std                        9.01            9.03\n",
      "-----------------------------------------------\n",
      "\n",
      "Correlation from scipy: 0.247\n",
      "Correlation from scratch: 0.247\n"
     ]
    }
   ],
   "source": [
    "# 1 - Mostly the same with some small tolerable differences.\n",
    "import numpy as np\n",
    "print('\\nComparing stats for number of friends:')\n",
    "print('-'*47)\n",
    "print('{:15} {:>15} {:>15}'.format('Statistic', 'From Numpy', 'From Scratch'))\n",
    "print('-'*47)\n",
    "for np_fn, sc_fn in [(np.mean, mean), (np.var, variance), (np.std, standard_deviation)]:\n",
    "    print('{:15} {:15.2f} {:15.2f}'.format(np_fn.__name__, np_fn(num_friends), sc_fn(num_friends)))\n",
    "print('-'*47)\n",
    "\n",
    "# 2 - \n",
    "from scipy.stats import pearsonr\n",
    "print('\\nCorrelation from scipy: {:.3f}'.format(pearsonr(num_friends, daily_minutes)[0]))\n",
    "print('Correlation from scratch: {:.3f}'.format(correlation(num_friends, daily_minutes)))\n"
   ]
  },
  {
   "cell_type": "markdown",
   "metadata": {},
   "source": [
    "### Removing outliers\n",
    "\n",
    "Let's have a look at the data.\n",
    "\n",
    "The data point for somebody who has 100 friends but spends 1 minute per day looks like an outlier. Let's remove it (see pages 64-65 of the text book for a discussion).\n",
    "\n",
    "This leads to much stronger correlation."
   ]
  },
  {
   "cell_type": "code",
   "execution_count": 4,
   "metadata": {},
   "outputs": [
    {
     "name": "stdout",
     "output_type": "stream",
     "text": [
      "\n",
      "Scatter plot for daily minutes vs number of friends:\n"
     ]
    },
    {
     "data": {
      "image/png": "[encoded data removed]",
      "text/plain": [
       "<matplotlib.figure.Figure at 0x105c3d780>"
      ]
     },
     "metadata": {},
     "output_type": "display_data"
    }
   ],
   "source": [
    "%matplotlib inline\n",
    "import matplotlib.pyplot as plt\n",
    "\n",
    "print('\\nScatter plot for daily minutes vs number of friends:')\n",
    "_ = plt.scatter(num_friends, daily_minutes)\n",
    "_ = plt.xlim(0,100)\n",
    "_ = plt.ylim(0,100)\n",
    "_ = plt.xlabel('Number of friends')\n",
    "_ = plt.ylabel('Average minutes per day on site')\n",
    "\n",
    "outlier = num_friends.index(100) # index of outlier\n",
    "\n",
    "num_friends_good = [x\n",
    "                    for i, x in enumerate(num_friends)\n",
    "                    if i != outlier]\n",
    "\n",
    "daily_minutes_good = [x\n",
    "                      for i, x in enumerate(daily_minutes)\n",
    "                      if i != outlier]"
   ]
  },
  {
   "cell_type": "code",
   "execution_count": 5,
   "metadata": {},
   "outputs": [
    {
     "name": "stdout",
     "output_type": "stream",
     "text": [
      "Correlation before outlier removal: 0.247\n",
      "Correlation after outlier removal: 0.574\n"
     ]
    }
   ],
   "source": [
    "print('Correlation before outlier removal: {:.3f}'.format(correlation(num_friends, daily_minutes)))\n",
    "print('Correlation after outlier removal: {:.3f}'.format(correlation(num_friends_good, daily_minutes_good)))"
   ]
  },
  {
   "cell_type": "markdown",
   "metadata": {},
   "source": [
    "### Simple linear regression\n",
    "\n",
    "That's the preliminaries all done. Now we can look at linear regression between two variables.\n",
    "\n",
    "Let's assume that we think having more friends causes people to spend more time on the site (see pages 65-67 of the book for a good discussion of caveats and other possible explanations).\n",
    "\n",
    "We're now going to build a simple linear model to describe this relationship.\n",
    "\n",
    "In particular, we assume a model of the form:\n",
    "\n",
    "`y_i = beta * x_i + alpha`\n",
    "\n",
    "Note this takes us right back to [linear equations in algebra](https://en.wikipedia.org/wiki/Linear_equation):\n",
    "\n",
    "`y = mx + b`\n",
    "\n",
    "Looking back at the scatter plot and correlation, this doesn't seems plausible if we assume some noise.\n",
    "\n",
    "Let's see how this works for our data."
   ]
  },
  {
   "cell_type": "code",
   "execution_count": 7,
   "metadata": {},
   "outputs": [
    {
     "name": "stdout",
     "output_type": "stream",
     "text": [
      "alpha 22.94755241346903\n",
      "beta 0.903865945605865\n",
      "r-squared 0.3291078377836305\n"
     ]
    }
   ],
   "source": [
    "def predict(alpha, beta, x_i):\n",
    "    \"\"\"the linear model\n",
    "    alpha and beta are our model parameters\n",
    "    x_i is the data point\n",
    "    return the predicted y value for x_i\"\"\"\n",
    "    return beta * x_i + alpha\n",
    "\n",
    "def error(alpha, beta, x_i, y_i):\n",
    "    \"\"\"the difference between the true y_i\n",
    "    and our predicted y value\"\"\"\n",
    "    return y_i - predict(alpha, beta, x_i)\n",
    "\n",
    "def sum_of_squared_errors(alpha, beta, x, y):\n",
    "    return sum(error(alpha, beta, x_i, y_i) ** 2\n",
    "               for x_i, y_i in zip(x, y))\n",
    "\n",
    "def least_squares_fit(x,y):\n",
    "    \"\"\"given training values for x and y,\n",
    "    find the least-squares values of alpha and beta\"\"\"\n",
    "    beta = correlation(x, y) * standard_deviation(y) / standard_deviation(x)\n",
    "    alpha = mean(y) - beta * mean(x)\n",
    "    return alpha, beta\n",
    "\n",
    "def total_sum_of_squares(y):\n",
    "    \"\"\"the total squared variation of y_i's from their mean\"\"\"\n",
    "    return sum(v ** 2 for v in de_mean(y))\n",
    "\n",
    "def r_squared(alpha, beta, x, y):\n",
    "    \"\"\"the fraction of variation in y captured by the model, which equals\n",
    "    1 - the fraction of variation in y not captured by the model\"\"\"\n",
    "    return 1.0 - (sum_of_squared_errors(alpha, beta, x, y) /\n",
    "                  total_sum_of_squares(y))\n",
    "\n",
    "alpha, beta = least_squares_fit(num_friends_good, daily_minutes_good)\n",
    "print(\"alpha\", alpha)\n",
    "print(\"beta\", beta)\n",
    "\n",
    "r_squared_value = r_squared(alpha, beta, num_friends_good, daily_minutes_good)\n",
    "print(\"r-squared\", r_squared_value)"
   ]
  },
  {
   "cell_type": "markdown",
   "metadata": {},
   "source": [
    "### TODO Assessing fit and precision\n",
    "\n",
    "R-squared gives an indication of [how well the model fits our data](http://blog.minitab.com/blog/adventures-in-statistics/regression-analysis-how-do-i-interpret-r-squared-and-assess-the-goodness-of-fit). It ranges from 0 to 1, with higher values indicating a better fit.\n",
    "\n",
    "Standard error is defined as [the square root of the sum of squared errors divided by N](http://onlinestatbook.com/2/regression/accuracy.html). \n",
    "\n",
    "As a [rule of thumb](https://en.wikipedia.org/wiki/68%E2%80%9395%E2%80%9399.7_rule), we can calculate a 95% confidence interval as [+/- 2 * standard_error from the regression line](http://blog.minitab.com/blog/adventures-in-statistics/regression-analysis-how-to-interpret-s-the-standard-error-of-the-regression).\n",
    "\n",
    "- What r-squared for our model above? Does this indicate a good fit?\n",
    "- Define a `standard_error` function using `sum_of_squared_errors` and `math.sqrt`. What is the standard error of our model?\n",
    "- Redraw the scatterplot from above. This time use `plt.plot` to overlay the regression line and the 95% prediction interval at + and - 2 times the calculated standard error.\n",
    "- Suppose our requirement is that predictions should be +/- 10 minutes of the actual value. Can we say this is with 95% confidence?"
   ]
  },
  {
   "cell_type": "code",
   "execution_count": 8,
   "metadata": {},
   "outputs": [
    {
     "name": "stdout",
     "output_type": "stream",
     "text": [
      "standard error 8.062752435241086\n",
      "\n",
      "Scatter plot with regression line and 95% prediction interval:\n"
     ]
    },
    {
     "data": {
      "image/png": "[encoded data removed]",
      "text/plain": [
       "<matplotlib.figure.Figure at 0x10da1c780>"
      ]
     },
     "metadata": {},
     "output_type": "display_data"
    }
   ],
   "source": [
    "# 1 - The value here is 0.329. This suggests that our model only partly explains the data\n",
    "#     so there must be other factors at play (see page 176 of the text book).\n",
    "\n",
    "\n",
    "# 2 - \n",
    "def standard_error(alpha, beta, x, y):\n",
    "    return math.sqrt(sum_of_squared_errors(alpha, beta, x, y) / len(y))\n",
    "\n",
    "stderr = standard_error(alpha, beta, num_friends_good, daily_minutes_good)\n",
    "print(\"standard error\", stderr)\n",
    "\n",
    "# 3 - \n",
    "print('\\nScatter plot with regression line and 95% prediction interval:')\n",
    "_ = plt.scatter(num_friends_good, daily_minutes_good)\n",
    "_ = plt.xlim(0,100)\n",
    "_ = plt.ylim(0,100)\n",
    "_ = plt.xlabel('Number of friends')\n",
    "_ = plt.ylabel('Average minutes per day on site')\n",
    "_ = plt.plot([0,100], [predict(alpha,beta,0), predict(alpha,beta,100)], 'r',\n",
    "             [0,100], [predict(alpha,beta,0)-2*stderr, predict(alpha,beta,100)-2*stderr], 'r--',\n",
    "             [0,100], [predict(alpha,beta,0)+2*stderr, predict(alpha,beta,100)+2*stderr], 'r--')\n",
    "\n",
    "# 4 - Nope. The standard error is ~8. 2 * 8 > 10."
   ]
  },
  {
   "cell_type": "markdown",
   "metadata": {},
   "source": [
    "### TODO Compare to scipy\n",
    "\n",
    "- Compare our result to the `linregress` function from `scipy.stats`. Are alpha, beta and r-squared the same?\n",
    "- The `scipy` implementation also returns a p-value for the H0 that slope is 0. What is the p-value? Can we reject the H0 at p<=0.01?\n",
    "\n",
    "Note the scipy implementation returns a standard error, but it the error for the slope coefficient instead of the fitting error."
   ]
  },
  {
   "cell_type": "code",
   "execution_count": 9,
   "metadata": {},
   "outputs": [
    {
     "name": "stdout",
     "output_type": "stream",
     "text": [
      "\n",
      "Comparing linear regression values:\n",
      "-----------------------------------------------\n",
      "Statistic            From Scipy    From Scratch\n",
      "-----------------------------------------------\n",
      "alpha                     22.95           22.95\n",
      "beta                       0.90            0.90\n",
      "r-squared                  0.33            0.33\n",
      "-----------------------------------------------\n",
      "\n",
      "p-value for a two-sided test of H0 that slope is 0: 3.676825862770313e-19\n",
      "Can we reject H0? Yes\n"
     ]
    }
   ],
   "source": [
    "# 1 - \n",
    "from scipy.stats import linregress\n",
    "slope, intercept, r_value, p_value, slope_stderr = linregress(num_friends_good, daily_minutes_good)\n",
    "\n",
    "print('\\nComparing linear regression values:')\n",
    "print('-'*47)\n",
    "print('{:15} {:>15} {:>15}'.format('Statistic', 'From Scipy', 'From Scratch'))\n",
    "print('-'*47)\n",
    "for name, sc_val, sp_val in [(\"alpha\", intercept, alpha),\n",
    "                             (\"beta\", slope, beta),\n",
    "                             (\"r-squared\", r_squared_value, r_value**2)]:\n",
    "    print('{:15} {:15.2f} {:15.2f}'.format(name, sc_val, sp_val))\n",
    "print('-'*47)\n",
    "\n",
    "# 2 - \n",
    "print('\\np-value for a two-sided test of H0 that slope is 0: {}'.format(p_value))\n",
    "print('Can we reject H0?', 'Yes' if p_value<=0.01 else 'No')"
   ]
  },
  {
   "cell_type": "markdown",
   "metadata": {},
   "source": [
    "## *STOP PLEASE. THE FOLLOWING IS FOR THE NEXT EXERCISE. THANKS.*"
   ]
  },
  {
   "cell_type": "markdown",
   "metadata": {},
   "source": [
    "## EXERCISE: Multiple regression\n",
    "\n",
    "[Adapted from http://bigdataexaminer.com/uncategorized/how-to-run-linear-regression-in-python-scikit-learn/.]\n",
    "\n",
    "Let's at the [Boston Housing data set](https://archive.ics.uci.edu/ml/datasets/Housing). This contains information about housing values by suburb and related information."
   ]
  },
  {
   "cell_type": "markdown",
   "metadata": {},
   "source": [
    "### Loading and visualising data\n",
    "\n",
    "Let's load the data and have a quick look at some descriptive stats for our features."
   ]
  },
  {
   "cell_type": "code",
   "execution_count": 10,
   "metadata": {},
   "outputs": [
    {
     "name": "stdout",
     "output_type": "stream",
     "text": [
      "Boston House Prices dataset\n",
      "===========================\n",
      "\n",
      "Notes\n",
      "------\n",
      "Data Set Characteristics:  \n",
      "\n",
      "    :Number of Instances: 506 \n",
      "\n",
      "    :Number of Attributes: 13 numeric/categorical predictive\n",
      "    \n",
      "    :Median Value (attribute 14) is usually the target\n",
      "\n",
      "    :Attribute Information (in order):\n",
      "        - CRIM     per capita crime rate by town\n",
      "        - ZN       proportion of residential land zoned for lots over 25,000 sq.ft.\n",
      "        - INDUS    proportion of non-retail business acres per town\n",
      "        - CHAS     Charles River dummy variable (= 1 if tract bounds river; 0 otherwise)\n",
      "        - NOX      nitric oxides concentration (parts per 10 million)\n",
      "        - RM       average number of rooms per dwelling\n",
      "        - AGE      proportion of owner-occupied units built prior to 1940\n",
      "        - DIS      weighted distances to five Boston employment centres\n",
      "        - RAD      index of accessibility to radial highways\n",
      "        - TAX      full-value property-tax rate per $10,000\n",
      "        - PTRATIO  pupil-teacher ratio by town\n",
      "        - B        1000(Bk - 0.63)^2 where Bk is the proportion of blacks by town\n",
      "        - LSTAT    % lower status of the population\n",
      "        - MEDV     Median value of owner-occupied homes in $1000's\n",
      "\n",
      "    :Missing Attribute Values: None\n",
      "\n",
      "    :Creator: Harrison, D. and Rubinfeld, D.L.\n",
      "\n",
      "This is a copy of UCI ML housing dataset.\n",
      "http://archive.ics.uci.edu/ml/datasets/Housing\n",
      "\n",
      "\n",
      "This dataset was taken from the StatLib library which is maintained at Carnegie Mellon University.\n",
      "\n",
      "The Boston house-price data of Harrison, D. and Rubinfeld, D.L. 'Hedonic\n",
      "prices and the demand for clean air', J. Environ. Economics & Management,\n",
      "vol.5, 81-102, 1978.   Used in Belsley, Kuh & Welsch, 'Regression diagnostics\n",
      "...', Wiley, 1980.   N.B. Various transformations are used in the table on\n",
      "pages 244-261 of the latter.\n",
      "\n",
      "The Boston house-price data has been used in many machine learning papers that address regression\n",
      "problems.   \n",
      "     \n",
      "**References**\n",
      "\n",
      "   - Belsley, Kuh & Welsch, 'Regression diagnostics: Identifying Influential Data and Sources of Collinearity', Wiley, 1980. 244-261.\n",
      "   - Quinlan,R. (1993). Combining Instance-Based and Model-Based Learning. In Proceedings on the Tenth International Conference of Machine Learning, 236-243, University of Massachusetts, Amherst. Morgan Kaufmann.\n",
      "   - many more! (see http://archive.ics.uci.edu/ml/datasets/Housing)\n",
      "\n"
     ]
    }
   ],
   "source": [
    "from sklearn.datasets import load_boston\n",
    "boston = load_boston()\n",
    "print(boston.DESCR)"
   ]
  },
  {
   "cell_type": "code",
   "execution_count": 11,
   "metadata": {},
   "outputs": [
    {
     "name": "stdout",
     "output_type": "stream",
     "text": [
      "Descriptive stats for feature values:\n",
      "-----------------------------------------------------------------\n",
      "Name              Min        Max       Mean      Stdev     Median\n",
      "-----------------------------------------------------------------\n",
      "CRIM             0.01      88.98       3.59       8.59       0.26\n",
      "ZN               0.00     100.00      11.36      23.30       0.00\n",
      "INDUS            0.46      27.74      11.14       6.85       9.69\n",
      "CHAS             0.00       1.00       0.07       0.25       0.00\n",
      "NOX              0.39       0.87       0.55       0.12       0.54\n",
      "RM               3.56       8.78       6.28       0.70       6.21\n",
      "AGE              2.90     100.00      68.57      28.12      77.50\n",
      "DIS              1.13      12.13       3.80       2.10       3.21\n",
      "RAD              1.00      24.00       9.55       8.70       5.00\n",
      "TAX            187.00     711.00     408.24     168.37     330.00\n",
      "PTRATIO         12.60      22.00      18.46       2.16      19.05\n",
      "B                0.32     396.90     356.67      91.20     391.44\n",
      "LSTAT            1.73      37.97      12.65       7.13      11.36\n",
      "-----------------------------------------------------------------\n",
      "\n",
      "Boxplots of feature values:\n"
     ]
    },
    {
     "data": {
      "image/png": "[encoded data removed]",
      "text/plain": [
       "<matplotlib.figure.Figure at 0x10e2878d0>"
      ]
     },
     "metadata": {},
     "output_type": "display_data"
    }
   ],
   "source": [
    "%matplotlib inline\n",
    "import matplotlib.pyplot as plt\n",
    "import numpy as np\n",
    "\n",
    "def cols_from_rows(data):\n",
    "    cols = [[] for _ in data[0]] # init with empty list for each column\n",
    "    for row in data:\n",
    "        for i, val in enumerate(row):\n",
    "            cols[i].append(val)\n",
    "    return cols\n",
    "\n",
    "print('Descriptive stats for feature values:')\n",
    "cols = cols_from_rows(boston.data)\n",
    "print('-'*65)\n",
    "print('{:10} {:>10} {:>10} {:>10} {:>10} {:>10}'.format('Name', 'Min', 'Max', 'Mean', 'Stdev', 'Median'))\n",
    "print('-'*65)\n",
    "for i, col in enumerate(cols):\n",
    "    print('{:10} {:10.2f} {:10.2f} {:10.2f} {:10.2f} {:10.2f}'\\\n",
    "          .format(boston.feature_names[i], min(col), max(col), np.mean(col), np.std(col), np.median(col)))\n",
    "print('-'*65)\n",
    "    \n",
    "print('\\nBoxplots of feature values:')\n",
    "cols = cols_from_rows(boston.data) + [boston.target]\n",
    "_ = plt.boxplot(cols, vert=False, notch=True, flierprops={'marker':'.'})\n",
    "labels = list(boston.feature_names) + ['VALUE']\n",
    "_ = plt.yticks(range(1,15), labels)"
   ]
  },
  {
   "cell_type": "markdown",
   "metadata": {},
   "source": [
    "### Linear regression in scikit-learn\n",
    "\n",
    "Now let's fit a linear model for predicting a suburbs median house value given the other features."
   ]
  },
  {
   "cell_type": "code",
   "execution_count": 12,
   "metadata": {},
   "outputs": [
    {
     "name": "stdout",
     "output_type": "stream",
     "text": [
      "Intercept: 32.8589326341\n",
      "Coefficients:\n",
      " [ -1.56381297e-01   3.85490972e-02  -2.50629921e-02   7.86439684e-01\n",
      "  -1.29469121e+01   4.00268857e+00  -1.16023395e-02  -1.36828811e+00\n",
      "   3.41756915e-01  -1.35148823e-02  -9.88866034e-01   1.20588215e-02\n",
      "  -4.72644280e-01]\n",
      "\n",
      "R-squared: 0.755133274178\n",
      "\n",
      "R-squared: 0.755133274178\n",
      "\n",
      "Predicted price of first five neighbourhoods from test split:\n",
      " [ 37.46723562  31.39154701  27.1201962    6.46843347  33.62966737]\n",
      "\n",
      "R-squared: 0.755133274178\n",
      "\n",
      "Standard error: 4.421171617742821\n"
     ]
    },
    {
     "name": "stderr",
     "output_type": "stream",
     "text": [
      "/Users/carolchen/anaconda/lib/python3.6/site-packages/sklearn/cross_validation.py:44: DeprecationWarning: This module was deprecated in version 0.18 in favor of the model_selection module into which all the refactored classes and functions are moved. Also note that the interface of the new CV iterators are different from that of this module. This module will be removed in 0.20.\n",
      "  \"This module will be removed in 0.20.\", DeprecationWarning)\n"
     ]
    }
   ],
   "source": [
    "from sklearn.cross_validation import train_test_split\n",
    "from sklearn.linear_model import LinearRegression\n",
    "import math\n",
    "import numpy as np\n",
    "\n",
    "# First let's create a train and test split\n",
    "X_train, X_test, Y_train, Y_test = train_test_split(boston.data, boston.target, test_size=0.33,\n",
    "                                                    random_state=5) # so we get the same results\n",
    "\n",
    "# Now let's fit a model\n",
    "lm = LinearRegression()\n",
    "_ = lm.fit(X_train, Y_train)\n",
    "\n",
    "print('Intercept:', lm.intercept_)\n",
    "print('Coefficients:\\n', lm.coef_)\n",
    "print('\\nR-squared:', lm.score(X_train, Y_train))\n",
    "\n",
    "# We use the score method to get r-squared\n",
    "print('\\nR-squared:', lm.score(X_train, Y_train))\n",
    "\n",
    "# We can predict the median price for a new neighbourhoods\n",
    "print('\\nPredicted price of first five neighbourhoods from test split:\\n', lm.predict(X_test)[:5])\n",
    "\n",
    "# We use the score method to get r-squared\n",
    "print('\\nR-squared:', lm.score(X_train, Y_train))\n",
    "\n",
    "# We can also calculate the standard error\n",
    "stderr = math.sqrt(np.mean((Y_train - lm.predict(X_train))**2))\n",
    "print('\\nStandard error:', stderr)"
   ]
  },
  {
   "cell_type": "markdown",
   "metadata": {},
   "source": [
    "### TODO Evaluating predictions \n",
    "\n",
    "- Does r_squared indicate a good fit?\n",
    "- Use `mean_squared_error` from `sklearn.metrics` to calculate standard error. Compare this to the value we calculated in the previous cell.\n",
    "- According to the 95% prediction interval, how close will our predictions be to the actual value? What if we calculate over the test data instead?\n",
    "\n",
    "[Residual plots](http://docs.statwing.com/interpreting-residual-plots-to-improve-your-regression/) scatter residuals (y_true - y_predicted) on the y-axis versus predicted values on the x-axis. A residual plot indicates that a linear model is appropriate if the points are randomly distributed around the `y=0` line.\n",
    "\n",
    "- Draw a residual plot with training data in blue and test data in green. Is a linear model appropriate for our data? Is prediction performance comparable to training performance?"
   ]
  },
  {
   "cell_type": "code",
   "execution_count": 13,
   "metadata": {},
   "outputs": [
    {
     "name": "stdout",
     "output_type": "stream",
     "text": [
      "Standard error: 4.421171617742821\n",
      "Standard error using sklearn.metrics: 4.421171617742821\n",
      "\n",
      "Predictions should be within 8.8k dollars at 95% confidence according to training data.\n",
      "Predictions should be within 10.7k dollars at 95% confidence according to test data.\n",
      "\n",
      "Residual plot for training data (blue) and test data (green):\n"
     ]
    },
    {
     "data": {
      "image/png": "[encoded data removed]",
      "text/plain": [
       "<matplotlib.figure.Figure at 0x10e26f5f8>"
      ]
     },
     "metadata": {},
     "output_type": "display_data"
    }
   ],
   "source": [
    "# 1 - Yes, r_squared indicates that our model explains the data reasonable well.\n",
    "#     But we should look at standard error as well (page 183 of Data Science from Scratch).\n",
    "\n",
    "# 2 - \n",
    "from sklearn.metrics import mean_squared_error\n",
    "se1 = math.sqrt(np.mean((Y_train - lm.predict(X_train))**2))\n",
    "print('Standard error:', se1)\n",
    "se2 = math.sqrt(mean_squared_error(Y_train, lm.predict(X_train)))\n",
    "print('Standard error using sklearn.metrics:', se2)\n",
    "\n",
    "# 3 - Note we have a fairly small data set (339 in training, 167 in test).\n",
    "#     So this value will vary depending on our split. \n",
    "print('\\nPredictions should be within {:.1f}k dollars at 95% confidence according to training data.'.format(2*se2))\n",
    "se_test = math.sqrt(mean_squared_error(Y_test, lm.predict(X_test)))\n",
    "print('Predictions should be within {:.1f}k dollars at 95% confidence according to test data.'.format(2*se_test))\n",
    "\n",
    "# 4 - Yes the linear model is appropriate\n",
    "print('\\nResidual plot for training data (blue) and test data (green):')\n",
    "_ = plt.scatter(lm.predict(X_train), Y_train-lm.predict(X_train), c='blue', s=40, alpha=0.5, edgecolor='white')\n",
    "_ = plt.scatter(lm.predict(X_test), Y_test-lm.predict(X_test), c='green', s=40, alpha=0.5, edgecolor='white')\n",
    "_ = plt.plot([-10,50], [0,0], c='black')\n",
    "_ = plt.ylabel('Residuals ($y - \\hat{y}$)')\n",
    "_ = plt.xlabel('Predicted values ($\\hat{y}$)')"
   ]
  },
  {
   "cell_type": "markdown",
   "metadata": {},
   "source": [
    "## *STOP PLEASE. THE FOLLOWING IS FOR THE NEXT EXERCISE. THANKS.*"
   ]
  },
  {
   "cell_type": "markdown",
   "metadata": {},
   "source": [
    "## EXERCISE: Logistic regression\n",
    "\n",
    "[Adapted from http://scikit-learn.org/stable/auto_examples/linear_model/plot_iris_logistic.html.]\n",
    "\n",
    "We'll use the Iris data set. Like the digits data from week 7, this is another classic machine learning data set.\n",
    "\n",
    "### Loading and visualising data\n",
    "\n",
    "Let's load the data and have a quick look at some descriptive stats for our features."
   ]
  },
  {
   "cell_type": "code",
   "execution_count": 14,
   "metadata": {},
   "outputs": [
    {
     "name": "stdout",
     "output_type": "stream",
     "text": [
      "Iris Plants Database\n",
      "====================\n",
      "\n",
      "Notes\n",
      "-----\n",
      "Data Set Characteristics:\n",
      "    :Number of Instances: 150 (50 in each of three classes)\n",
      "    :Number of Attributes: 4 numeric, predictive attributes and the class\n",
      "    :Attribute Information:\n",
      "        - sepal length in cm\n",
      "        - sepal width in cm\n",
      "        - petal length in cm\n",
      "        - petal width in cm\n",
      "        - class:\n",
      "                - Iris-Setosa\n",
      "                - Iris-Versicolour\n",
      "                - Iris-Virginica\n",
      "    :Summary Statistics:\n",
      "\n",
      "    ============== ==== ==== ======= ===== ====================\n",
      "                    Min  Max   Mean    SD   Class Correlation\n",
      "    ============== ==== ==== ======= ===== ====================\n",
      "    sepal length:   4.3  7.9   5.84   0.83    0.7826\n",
      "    sepal width:    2.0  4.4   3.05   0.43   -0.4194\n",
      "    petal length:   1.0  6.9   3.76   1.76    0.9490  (high!)\n",
      "    petal width:    0.1  2.5   1.20  0.76     0.9565  (high!)\n",
      "    ============== ==== ==== ======= ===== ====================\n",
      "\n",
      "    :Missing Attribute Values: None\n",
      "    :Class Distribution: 33.3% for each of 3 classes.\n",
      "    :Creator: R.A. Fisher\n",
      "    :Donor: Michael Marshall (MARSHALL%PLU@io.arc.nasa.gov)\n",
      "    :Date: July, 1988\n",
      "\n",
      "This is a copy of UCI ML iris datasets.\n",
      "http://archive.ics.uci.edu/ml/datasets/Iris\n",
      "\n",
      "The famous Iris database, first used by Sir R.A Fisher\n",
      "\n",
      "This is perhaps the best known database to be found in the\n",
      "pattern recognition literature.  Fisher's paper is a classic in the field and\n",
      "is referenced frequently to this day.  (See Duda & Hart, for example.)  The\n",
      "data set contains 3 classes of 50 instances each, where each class refers to a\n",
      "type of iris plant.  One class is linearly separable from the other 2; the\n",
      "latter are NOT linearly separable from each other.\n",
      "\n",
      "References\n",
      "----------\n",
      "   - Fisher,R.A. \"The use of multiple measurements in taxonomic problems\"\n",
      "     Annual Eugenics, 7, Part II, 179-188 (1936); also in \"Contributions to\n",
      "     Mathematical Statistics\" (John Wiley, NY, 1950).\n",
      "   - Duda,R.O., & Hart,P.E. (1973) Pattern Classification and Scene Analysis.\n",
      "     (Q327.D83) John Wiley & Sons.  ISBN 0-471-22361-1.  See page 218.\n",
      "   - Dasarathy, B.V. (1980) \"Nosing Around the Neighborhood: A New System\n",
      "     Structure and Classification Rule for Recognition in Partially Exposed\n",
      "     Environments\".  IEEE Transactions on Pattern Analysis and Machine\n",
      "     Intelligence, Vol. PAMI-2, No. 1, 67-71.\n",
      "   - Gates, G.W. (1972) \"The Reduced Nearest Neighbor Rule\".  IEEE Transactions\n",
      "     on Information Theory, May 1972, 431-433.\n",
      "   - See also: 1988 MLC Proceedings, 54-64.  Cheeseman et al\"s AUTOCLASS II\n",
      "     conceptual clustering system finds 3 classes in the data.\n",
      "   - Many, many more ...\n",
      "\n"
     ]
    }
   ],
   "source": [
    "from sklearn.datasets import load_iris\n",
    "iris = load_iris()\n",
    "print(iris.DESCR)"
   ]
  },
  {
   "cell_type": "code",
   "execution_count": 15,
   "metadata": {},
   "outputs": [
    {
     "name": "stdout",
     "output_type": "stream",
     "text": [
      "Descriptive stats for feature values:\n",
      "---------------------------------------------------------------------------\n",
      "Name                        Min        Max       Mean      Stdev     Median\n",
      "---------------------------------------------------------------------------\n",
      "sepal length (cm)          4.30       7.90       5.84       0.83       5.80\n",
      "sepal width (cm)           2.00       4.40       3.05       0.43       3.00\n",
      "petal length (cm)          1.00       6.90       3.76       1.76       4.35\n",
      "petal width (cm)           0.10       2.50       1.20       0.76       1.30\n",
      "---------------------------------------------------------------------------\n",
      "\n",
      "Boxplots of feature values:\n"
     ]
    },
    {
     "data": {
      "image/png": "[encoded data removed]",
      "text/plain": [
       "<matplotlib.figure.Figure at 0x10db45320>"
      ]
     },
     "metadata": {},
     "output_type": "display_data"
    }
   ],
   "source": [
    "%matplotlib inline\n",
    "import matplotlib.pyplot as plt\n",
    "import numpy as np\n",
    "\n",
    "def cols_from_rows(data):\n",
    "    cols = [[] for _ in data[0]] # init with empty list for each column\n",
    "    for row in data:\n",
    "        for i, val in enumerate(row):\n",
    "            cols[i].append(val)\n",
    "    return cols\n",
    "\n",
    "print('Descriptive stats for feature values:')\n",
    "cols = cols_from_rows(iris.data)\n",
    "print('-'*75)\n",
    "print('{:20} {:>10} {:>10} {:>10} {:>10} {:>10}'.format('Name', 'Min', 'Max', 'Mean', 'Stdev', 'Median'))\n",
    "print('-'*75)\n",
    "for i, col in enumerate(cols):\n",
    "    print('{:20} {:10.2f} {:10.2f} {:10.2f} {:10.2f} {:10.2f}'\\\n",
    "          .format(iris.feature_names[i], min(col), max(col), np.mean(col), np.std(col), np.median(col)))\n",
    "print('-'*75)\n",
    "    \n",
    "print('\\nBoxplots of feature values:')\n",
    "_ = plt.boxplot(cols_from_rows(iris.data), vert=False, notch=True, flierprops={'marker':'.'})\n",
    "_ = plt.yticks(range(1,5), iris.feature_names)"
   ]
  },
  {
   "cell_type": "markdown",
   "metadata": {},
   "source": [
    "### Logistic regression in scikit-learn\n",
    "\n",
    "Now let's use logistic regression to learn a model of iris type given sepal and petal measurements."
   ]
  },
  {
   "cell_type": "code",
   "execution_count": 16,
   "metadata": {},
   "outputs": [
    {
     "name": "stdout",
     "output_type": "stream",
     "text": [
      "Intercept: [ 0.25397574  0.60069446 -0.93036609]\n",
      "Coefficients:\n",
      " [[ 0.37224112  1.33112319 -2.04834173 -0.96176771]\n",
      " [ 0.51334978 -1.57472052  0.49303449 -1.26808117]\n",
      " [-1.62286014 -1.02340492  2.1130959   2.27391686]]\n",
      "\n",
      "Predicted type of first five organisms from test split: [1 2 2 0 2]\n",
      "Actual type of first five organisms from test split: [1 2 2 0 2]\n"
     ]
    }
   ],
   "source": [
    "from sklearn.cross_validation import train_test_split\n",
    "from sklearn.linear_model import LogisticRegression\n",
    "\n",
    "# First let's create a train and test split\n",
    "X_train, X_test, Y_train, Y_test = train_test_split(iris.data, iris.target, test_size=0.33,\n",
    "                                                    random_state=5) # so we get the same results\n",
    "\n",
    "# Now let's fit a model\n",
    "logreg = LogisticRegression()\n",
    "_ = logreg.fit(X_train, Y_train)\n",
    "print('Intercept:', logreg.intercept_)\n",
    "print('Coefficients:\\n', logreg.coef_)\n",
    "\n",
    "# We can predict the type of new organisms given measurements\n",
    "print('\\nPredicted type of first five organisms from test split:', logreg.predict(X_test)[:5])\n",
    "print('Actual type of first five organisms from test split:', Y_test[:5])"
   ]
  },
  {
   "cell_type": "markdown",
   "metadata": {},
   "source": [
    "### Evaluating classification\n",
    "\n",
    "Recall from week 7 that `sklearn.metrics` includes various evaluation measures. "
   ]
  },
  {
   "cell_type": "code",
   "execution_count": 17,
   "metadata": {},
   "outputs": [
    {
     "name": "stdout",
     "output_type": "stream",
     "text": [
      "Classification report (0=setosa, 1=versicolor, 2=virginica):\n",
      "\n",
      "             precision    recall  f1-score   support\n",
      "\n",
      "          0       1.00      1.00      1.00        16\n",
      "          1       1.00      0.82      0.90        17\n",
      "          2       0.85      1.00      0.92        17\n",
      "\n",
      "avg / total       0.95      0.94      0.94        50\n",
      "\n"
     ]
    }
   ],
   "source": [
    "from sklearn.metrics import classification_report\n",
    "key=', '.join(['{}={}'.format(i,name) for i,name in enumerate(iris.target_names)])\n",
    "print('Classification report ({}):\\n'.format(key))\n",
    "print(classification_report(Y_test, logreg.predict(X_test)))"
   ]
  },
  {
   "cell_type": "code",
   "execution_count": 18,
   "metadata": {},
   "outputs": [
    {
     "name": "stdout",
     "output_type": "stream",
     "text": [
      "Confusion matrix (0=setosa, 1=versicolor, 2=virginica):\n",
      "\n"
     ]
    },
    {
     "data": {
      "image/png": "[encoded data removed]",
      "text/plain": [
       "<matplotlib.figure.Figure at 0x10db6db38>"
      ]
     },
     "metadata": {},
     "output_type": "display_data"
    }
   ],
   "source": [
    "%matplotlib inline\n",
    "from sklearn.metrics import confusion_matrix\n",
    "import matplotlib.pyplot as plt\n",
    "\n",
    "print('Confusion matrix ({}):\\n'.format(key))\n",
    "_ = plt.matshow(confusion_matrix(Y_test, logreg.predict(X_test)), cmap=plt.cm.binary, interpolation='nearest')\n",
    "_ = plt.colorbar()\n",
    "_ = plt.ylabel('true label')\n",
    "_ = plt.xlabel('predicted label')"
   ]
  },
  {
   "cell_type": "markdown",
   "metadata": {},
   "source": [
    "### TODO Choose parameters using grid search\n",
    "\n",
    "[Adapted from http://scikit-learn.org/stable/auto_examples/model_selection/grid_search_digits.html.]\n",
    "\n",
    "- Choose the best C values in [1, 10, 100, 1000, 10000, 100000, 1000000] and the best penalty in ['l1', 'l2']\n",
    "- Which is the best C? Which is the best penalty?\n",
    "- How do precision, recall and f1 scores compare?"
   ]
  },
  {
   "cell_type": "code",
   "execution_count": 19,
   "metadata": {},
   "outputs": [
    {
     "name": "stderr",
     "output_type": "stream",
     "text": [
      "/Users/carolchen/anaconda/lib/python3.6/site-packages/sklearn/grid_search.py:43: DeprecationWarning: This module was deprecated in version 0.18 in favor of the model_selection module into which all the refactored classes and functions are moved. This module will be removed in 0.20.\n",
      "  DeprecationWarning)\n"
     ]
    },
    {
     "name": "stdout",
     "output_type": "stream",
     "text": [
      "Grid search mean and stdev:\n",
      "\n",
      "0.930 (+/-0.125) for {'C': 1, 'penalty': 'l1'}\n",
      "0.930 (+/-0.115) for {'C': 1, 'penalty': 'l2'}\n",
      "0.950 (+/-0.029) for {'C': 10, 'penalty': 'l1'}\n",
      "0.950 (+/-0.076) for {'C': 10, 'penalty': 'l2'}\n",
      "0.960 (+/-0.029) for {'C': 100, 'penalty': 'l1'}\n",
      "0.960 (+/-0.029) for {'C': 100, 'penalty': 'l2'}\n",
      "0.960 (+/-0.029) for {'C': 1000, 'penalty': 'l1'}\n",
      "0.970 (+/-0.001) for {'C': 1000, 'penalty': 'l2'}\n",
      "0.960 (+/-0.029) for {'C': 10000.0, 'penalty': 'l1'}\n",
      "0.970 (+/-0.001) for {'C': 10000.0, 'penalty': 'l2'}\n",
      "0.960 (+/-0.029) for {'C': 100000.0, 'penalty': 'l1'}\n",
      "0.980 (+/-0.029) for {'C': 100000.0, 'penalty': 'l2'}\n",
      "0.960 (+/-0.029) for {'C': 1000000.0, 'penalty': 'l1'}\n",
      "0.980 (+/-0.029) for {'C': 1000000.0, 'penalty': 'l2'}\n",
      "0.960 (+/-0.029) for {'C': 10000000.0, 'penalty': 'l1'}\n",
      "0.980 (+/-0.029) for {'C': 10000000.0, 'penalty': 'l2'}\n",
      "\n",
      "Best parameters: {'C': 100000.0, 'penalty': 'l2'}\n",
      "\n",
      "Classification report (0=setosa, 1=versicolor, 2=virginica):\n",
      "\n",
      "             precision    recall  f1-score   support\n",
      "\n",
      "          0       1.00      1.00      1.00        16\n",
      "          1       0.89      1.00      0.94        17\n",
      "          2       1.00      0.88      0.94        17\n",
      "\n",
      "avg / total       0.96      0.96      0.96        50\n",
      "\n"
     ]
    }
   ],
   "source": [
    "from sklearn.grid_search import GridSearchCV\n",
    "\n",
    "# Perform grid search\n",
    "param_grid = [\n",
    "    {'C': [1, 10, 100, 1000, 1e4, 1e5, 1e6, 1e7], 'penalty': ['l1', 'l2']}\n",
    "]\n",
    "logreg = GridSearchCV(LogisticRegression(), param_grid)\n",
    "logreg.fit(X_train, Y_train)\n",
    "\n",
    "# Print grid search results\n",
    "print('Grid search mean and stdev:\\n')\n",
    "for params, mean_score, scores in logreg.grid_scores_:\n",
    "    print(\"{:0.3f} (+/-{:0.03f}) for {}\".format(\n",
    "            mean_score, scores.std() * 2, params))\n",
    "\n",
    "# Print best params\n",
    "print('\\nBest parameters:', logreg.best_params_)\n",
    "\n",
    "print('\\nClassification report ({}):\\n'.format(key))\n",
    "print(classification_report(Y_test, logreg.predict(X_test)))"
   ]
  },
  {
   "cell_type": "markdown",
   "metadata": {},
   "source": [
    "## *STOP PLEASE. THE FOLLOWING IS FOR THE NEXT EXERCISE. THANKS.*"
   ]
  },
  {
   "cell_type": "markdown",
   "metadata": {},
   "source": [
    "## EXERCISE: Decision trees\n",
    "\n",
    "[Adapted from http://scikit-learn.org/stable/modules/tree.html and http://thegrimmscientist.com/2014/10/23/tutorial-decision-trees/.]\n",
    "\n",
    "Let's try a decision tree on the same data.\n",
    "\n",
    "### Train and view a tree"
   ]
  },
  {
   "cell_type": "code",
   "execution_count": 20,
   "metadata": {},
   "outputs": [
    {
     "name": "stdout",
     "output_type": "stream",
     "text": [
      "Classification report (0=setosa, 1=versicolor, 2=virginica):\n",
      "\n",
      "             precision    recall  f1-score   support\n",
      "\n",
      "          0       1.00      1.00      1.00        16\n",
      "          1       0.89      0.94      0.91        17\n",
      "          2       0.94      0.88      0.91        17\n",
      "\n",
      "avg / total       0.94      0.94      0.94        50\n",
      "\n"
     ]
    }
   ],
   "source": [
    "from sklearn.tree import DecisionTreeClassifier\n",
    "\n",
    "# Let's fit a model\n",
    "tree = DecisionTreeClassifier(max_depth=2)\n",
    "_ = tree.fit(X_train, Y_train)\n",
    "\n",
    "# Evaluate\n",
    "print('Classification report ({}):\\n'.format(key))\n",
    "print(classification_report(Y_test, tree.predict(X_test)))"
   ]
  },
  {
   "cell_type": "code",
   "execution_count": 21,
   "metadata": {},
   "outputs": [
    {
     "name": "stdout",
     "output_type": "stream",
     "text": [
      "Decision tree:\n",
      "\n",
      "if ( petal width (cm) <= 0.699999988079 ) {\n",
      "    return setosa ( 34 examples )\n",
      "}\n",
      "else {\n",
      "    if ( petal width (cm) <= 1.75 ) {\n",
      "        return versicolor ( 33 examples )\n",
      "        return virginica ( 3 examples )\n",
      "    }\n",
      "    else {\n",
      "        return virginica ( 30 examples )\n",
      "    }\n",
      "}\n"
     ]
    }
   ],
   "source": [
    "#From http://chrisstrelioff.ws/sandbox/2015/06/08/decision_trees_in_python_with_scikit_learn_and_pandas.html\n",
    "def get_code(tree, feature_names, target_names, spacer_base=\"    \"):\n",
    "    \"\"\"Produce psuedo-code for decision tree.\n",
    "\n",
    "    Args\n",
    "    ----\n",
    "    tree -- scikit-leant DescisionTree.\n",
    "    feature_names -- list of feature names.\n",
    "    target_names -- list of target (class) names.\n",
    "    spacer_base -- used for spacing code (default: \"    \").\n",
    "\n",
    "    Notes\n",
    "    -----\n",
    "    based on http://stackoverflow.com/a/30104792.\n",
    "    \"\"\"\n",
    "    left      = tree.tree_.children_left\n",
    "    right     = tree.tree_.children_right\n",
    "    threshold = tree.tree_.threshold\n",
    "    features  = [feature_names[i] for i in tree.tree_.feature]\n",
    "    value = tree.tree_.value\n",
    "\n",
    "    def recurse(left, right, threshold, features, node, depth):\n",
    "        spacer = spacer_base * depth\n",
    "        if (threshold[node] != -2):\n",
    "            print(spacer + \"if ( \" + features[node] + \" <= \" + \\\n",
    "                  str(threshold[node]) + \" ) {\")\n",
    "            if left[node] != -1:\n",
    "                    recurse(left, right, threshold, features,\n",
    "                            left[node], depth+1)\n",
    "            print(spacer + \"}\\n\" + spacer +\"else {\")\n",
    "            if right[node] != -1:\n",
    "                    recurse(left, right, threshold, features,\n",
    "                            right[node], depth+1)\n",
    "            print(spacer + \"}\")\n",
    "        else:\n",
    "            target = value[node]\n",
    "            for i, v in zip(np.nonzero(target)[1],\n",
    "                            target[np.nonzero(target)]):\n",
    "                target_name = target_names[i]\n",
    "                target_count = int(v)\n",
    "                print(spacer + \"return \" + str(target_name) + \\\n",
    "                      \" ( \" + str(target_count) + \" examples )\")\n",
    "\n",
    "    recurse(left, right, threshold, features, 0, 0)\n",
    "    \n",
    "print('Decision tree:\\n')\n",
    "get_code(tree, iris.feature_names, iris.target_names)"
   ]
  },
  {
   "cell_type": "markdown",
   "metadata": {},
   "source": [
    "### McNemar's test\n",
    "\n",
    "McNemar's test is [recommended when we have a single test split](http://sci2s.ugr.es/keel/pdf/algorithm/articulo/dietterich1998.pdf).\n",
    "\n",
    "Under H0, the two algorithms should have the same error rate."
   ]
  },
  {
   "cell_type": "code",
   "execution_count": 22,
   "metadata": {},
   "outputs": [],
   "source": [
    "from scipy.stats import chi2\n",
    "\n",
    "def mcnemar(x, y):\n",
    "    n1 = np.sum(x < y)\n",
    "    n2 = np.sum(x > y)\n",
    "    stat = (np.abs(n1-n2)-1)**2 / (n1+n2)\n",
    "    df = 1\n",
    "    pval = chi2.sf(stat,1)\n",
    "    return stat, pval"
   ]
  },
  {
   "cell_type": "markdown",
   "metadata": {},
   "source": [
    "### TODO Compare classifiers\n",
    "\n",
    "- Choose the decision tree max_depth in [2..6], criterion in ['entropy', 'gini'] and splitter in ['best', 'random']. What are the best parameters? Print out all grid scores to sanity check the selection. Is there a unique best set of parameters?\n",
    "- Use `np.array` create `l_yn` and `t_yn` arrays showing respectively for logistic regression and decition tree whether each test instance is predicted correctly (`1`) or incorrectly (`0`). Are the classifiers significantly different at p<=0.05 according to McNemar's test?\n",
    "- The simplest possible classifier always returns the majority class. Implement a majority baseline. Are our classifiers significantly better than this baseline at p<=0.05?"
   ]
  },
  {
   "cell_type": "code",
   "execution_count": 23,
   "metadata": {},
   "outputs": [
    {
     "name": "stdout",
     "output_type": "stream",
     "text": [
      "Grid search mean and stdev:\n",
      "\n",
      "0.960 (+/-0.029) for {'criterion': 'entropy', 'max_depth': 2, 'splitter': 'best'}\n",
      "0.770 (+/-0.124) for {'criterion': 'entropy', 'max_depth': 2, 'splitter': 'random'}\n",
      "0.960 (+/-0.029) for {'criterion': 'entropy', 'max_depth': 3, 'splitter': 'best'}\n",
      "0.940 (+/-0.002) for {'criterion': 'entropy', 'max_depth': 3, 'splitter': 'random'}\n",
      "0.950 (+/-0.058) for {'criterion': 'entropy', 'max_depth': 4, 'splitter': 'best'}\n",
      "0.880 (+/-0.132) for {'criterion': 'entropy', 'max_depth': 4, 'splitter': 'random'}\n",
      "0.950 (+/-0.058) for {'criterion': 'entropy', 'max_depth': 5, 'splitter': 'best'}\n",
      "0.940 (+/-0.086) for {'criterion': 'entropy', 'max_depth': 5, 'splitter': 'random'}\n",
      "0.930 (+/-0.076) for {'criterion': 'entropy', 'max_depth': 6, 'splitter': 'best'}\n",
      "0.940 (+/-0.086) for {'criterion': 'entropy', 'max_depth': 6, 'splitter': 'random'}\n",
      "0.960 (+/-0.029) for {'criterion': 'gini', 'max_depth': 2, 'splitter': 'best'}\n",
      "0.820 (+/-0.102) for {'criterion': 'gini', 'max_depth': 2, 'splitter': 'random'}\n",
      "0.960 (+/-0.029) for {'criterion': 'gini', 'max_depth': 3, 'splitter': 'best'}\n",
      "0.970 (+/-0.001) for {'criterion': 'gini', 'max_depth': 3, 'splitter': 'random'}\n",
      "0.950 (+/-0.058) for {'criterion': 'gini', 'max_depth': 4, 'splitter': 'best'}\n",
      "0.940 (+/-0.050) for {'criterion': 'gini', 'max_depth': 4, 'splitter': 'random'}\n",
      "0.960 (+/-0.029) for {'criterion': 'gini', 'max_depth': 5, 'splitter': 'best'}\n",
      "0.970 (+/-0.049) for {'criterion': 'gini', 'max_depth': 5, 'splitter': 'random'}\n",
      "0.960 (+/-0.029) for {'criterion': 'gini', 'max_depth': 6, 'splitter': 'best'}\n",
      "0.960 (+/-0.027) for {'criterion': 'gini', 'max_depth': 6, 'splitter': 'random'}\n",
      "\n",
      "Best parameters: {'criterion': 'gini', 'max_depth': 3, 'splitter': 'random'}\n",
      "\n",
      "Classification report (0=setosa, 1=versicolor, 2=virginica):\n",
      "\n",
      "             precision    recall  f1-score   support\n",
      "\n",
      "          0       1.00      1.00      1.00        16\n",
      "          1       0.71      1.00      0.83        17\n",
      "          2       1.00      0.59      0.74        17\n",
      "\n",
      "avg / total       0.90      0.86      0.85        50\n",
      "\n"
     ]
    }
   ],
   "source": [
    "from sklearn.grid_search import GridSearchCV\n",
    "\n",
    "# Perform grid search\n",
    "param_grid = [\n",
    "    {'max_depth': [2, 3, 4, 5, 6],\n",
    "     'criterion': ['entropy', 'gini'],\n",
    "     'splitter': ['best', 'random']}\n",
    "]\n",
    "tree = GridSearchCV(DecisionTreeClassifier(), param_grid)\n",
    "tree.fit(X_train, Y_train)\n",
    "\n",
    "# Print grid search results\n",
    "print('Grid search mean and stdev:\\n')\n",
    "for params, mean_score, scores in tree.grid_scores_:\n",
    "    print(\"{:0.3f} (+/-{:0.03f}) for {}\".format(\n",
    "            mean_score, scores.std() * 2, params))\n",
    "\n",
    "# Print best params\n",
    "print('\\nBest parameters:', tree.best_params_)\n",
    "\n",
    "# Evaluate on held-out test\n",
    "print('\\nClassification report ({}):\\n'.format(key))\n",
    "print(classification_report(Y_test, tree.predict(X_test)))"
   ]
  },
  {
   "cell_type": "code",
   "execution_count": 24,
   "metadata": {},
   "outputs": [
    {
     "name": "stdout",
     "output_type": "stream",
     "text": [
      "[1 0 1 1 1 1 1 1 1 1 1 0 1 1 1 1 1 1 1 1 1 1 1 1 1 1 1 1 1 1 1 1 1 1 1 1 1\n",
      " 1 1 1 1 1 1 1 1 1 1 1 1 1]\n",
      "[1 0 1 1 1 1 1 1 1 1 1 0 1 0 1 1 0 0 1 1 1 1 1 1 1 1 1 1 1 1 1 1 1 1 1 1 1\n",
      " 1 1 1 0 1 1 1 1 0 1 1 1 1]\n",
      "\n",
      "Can we reject H0? No\n"
     ]
    }
   ],
   "source": [
    "# Calculate whether each test prediction is correct\n",
    "l_yn = np.array([int(p==t) for p,t in zip(logreg.predict(X_test), Y_test)])\n",
    "t_yn = np.array([int(p==t) for p,t in zip(tree.predict(X_test), Y_test)])\n",
    "\n",
    "# There's very little difference in this data set\n",
    "print(l_yn)\n",
    "print(t_yn)\n",
    "\n",
    "# We cannot reject H0. Accuracy is different but not reliably so.\n",
    "# Therefore, we can select either classifier, e.g.,\n",
    "# decision tree for interpretability.\n",
    "print('\\nCan we reject H0?', 'Yes' if mcnemar(l_yn, t_yn)[1]<0.05 else 'No')"
   ]
  },
  {
   "cell_type": "code",
   "execution_count": 26,
   "metadata": {},
   "outputs": [
    {
     "name": "stdout",
     "output_type": "stream",
     "text": [
      "Classification report (0=setosa, 1=versicolor, 2=virginica):\n",
      "\n",
      "             precision    recall  f1-score   support\n",
      "\n",
      "          0       0.00      0.00      0.00        16\n",
      "          1       0.00      0.00      0.00        17\n",
      "          2       0.34      1.00      0.51        17\n",
      "\n",
      "avg / total       0.12      0.34      0.17        50\n",
      "\n",
      "\n",
      "Is logisitic regression better than baseline? Yes (p=3.95885676595604e-07)\n",
      "Is the decision tree better than baseline? Yes (p=7.722679550543405e-05)\n"
     ]
    },
    {
     "name": "stderr",
     "output_type": "stream",
     "text": [
      "/Users/carolchen/anaconda/lib/python3.6/site-packages/sklearn/metrics/classification.py:1113: UndefinedMetricWarning: Precision and F-score are ill-defined and being set to 0.0 in labels with no predicted samples.\n",
      "  'precision', 'predicted', average, warn_for)\n"
     ]
    }
   ],
   "source": [
    "# Create baseline predictions and evaluate\n",
    "def predict_majority_class(x, majority_class=2):\n",
    "    return [majority_class for _ in x]\n",
    "b_preds = predict_majority_class(X_test)\n",
    "print('Classification report ({}):\\n'.format(key))\n",
    "print(classification_report(Y_test, b_preds))\n",
    "\n",
    "# Are our classifiers significantly better than baseline?\n",
    "b_yn = np.array([int(p==t) for p,t in zip(b_preds, Y_test)])\n",
    "bl_pvalue = mcnemar(b_yn, l_yn)[1]\n",
    "print('\\nIs logisitic regression better than baseline?',\n",
    "      'Yes (p={})'.format(bl_pvalue) if bl_pvalue<0.05 else 'No')\n",
    "bt_pvalue = mcnemar(b_yn, t_yn)[1]\n",
    "print('Is the decision tree better than baseline?',\n",
    "      'Yes (p={})'.format(bt_pvalue) if bt_pvalue<0.05 else 'No')"
   ]
  },
  {
   "cell_type": "code",
   "execution_count": null,
   "metadata": {
    "collapsed": true
   },
   "outputs": [],
   "source": []
  }
 ],
 "metadata": {
  "kernelspec": {
   "display_name": "Python 3",
   "language": "python",
   "name": "python3"
  },
  "language_info": {
   "codemirror_mode": {
    "name": "ipython",
    "version": 3
   },
   "file_extension": ".py",
   "mimetype": "text/x-python",
   "name": "python",
   "nbconvert_exporter": "python",
   "pygments_lexer": "ipython3",
   "version": "3.6.5"
  }
 },
 "nbformat": 4,
 "nbformat_minor": 1
}
